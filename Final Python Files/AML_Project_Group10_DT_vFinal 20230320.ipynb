{
 "cells": [
  {
   "cell_type": "markdown",
   "id": "f79092f1",
   "metadata": {},
   "source": [
    "# Prep"
   ]
  },
  {
   "cell_type": "markdown",
   "id": "95f3e0c7",
   "metadata": {},
   "source": [
    "## Change colour of graphs depending on background colour of IDE"
   ]
  },
  {
   "cell_type": "code",
   "execution_count": 1,
   "id": "1747c1bf",
   "metadata": {},
   "outputs": [],
   "source": [
    "# set_colour_based_on_backgrnd = 'white'\n",
    "set_colour_based_on_backgrnd = 'black'\n"
   ]
  },
  {
   "cell_type": "markdown",
   "id": "9982ac49",
   "metadata": {},
   "source": [
    "## Importing the libraries"
   ]
  },
  {
   "cell_type": "code",
   "execution_count": 1,
   "id": "cdbd176d",
   "metadata": {
    "lines_to_next_cell": 2
   },
   "outputs": [],
   "source": [
    "import numpy as np\n",
    "import pandas as pd\n",
    "\n",
    "from statsmodels.stats.outliers_influence import variance_inflation_factor\n",
    "\n",
    "import matplotlib.pyplot as plt  \n",
    "import seaborn as sns\n",
    "\n",
    "from sklearn import preprocessing\n",
    "\n",
    "from sklearn import tree\n",
    "from sklearn import metrics\n",
    "from sklearn.model_selection import train_test_split, KFold, cross_val_score\n",
    "from sklearn.inspection import permutation_importance\n",
    "from sklearn import linear_model\n",
    "from sklearn.metrics import r2_score, mean_absolute_error, mean_squared_error\n",
    "\n",
    "import copy\n",
    "import regex as re"
   ]
  },
  {
   "cell_type": "code",
   "execution_count": 3,
   "id": "bb27e7f0",
   "metadata": {},
   "outputs": [],
   "source": [
    "if set_colour_based_on_backgrnd == 'black':\n",
    "    plt.style.use('dark_background')\n",
    "elif set_colour_based_on_backgrnd == 'white':\n",
    "    plt.style.use('default')\n"
   ]
  },
  {
   "cell_type": "markdown",
   "id": "96db414e",
   "metadata": {},
   "source": [
    "## Reading the dataset & prep"
   ]
  },
  {
   "cell_type": "code",
   "execution_count": 2,
   "id": "795721a9",
   "metadata": {},
   "outputs": [],
   "source": [
    "cars_dataset = pd.read_csv(\"cars_coded.csv\")"
   ]
  },
  {
   "cell_type": "code",
   "execution_count": 3,
   "id": "9df5a1dc",
   "metadata": {},
   "outputs": [],
   "source": [
    "cars_dataset = cars_dataset.drop(['savings_amount'], axis=1)"
   ]
  },
  {
   "cell_type": "markdown",
   "id": "be2c9fc3",
   "metadata": {},
   "source": [
    "## Process data"
   ]
  },
  {
   "cell_type": "code",
   "execution_count": 6,
   "id": "d3045fc0",
   "metadata": {},
   "outputs": [],
   "source": [
    "def process(df):\n",
    "    cars_coded = df.copy(deep=True)\n",
    "    temp_df = cars_coded.drop(['price'], axis=1)\n",
    "    col_names = list(temp_df.columns)\n",
    "    print('len(col_names) =', len(col_names))\n",
    "    cars_array = cars_coded.to_numpy()\n",
    "\n",
    "    return cars_array, col_names"
   ]
  },
  {
   "cell_type": "code",
   "execution_count": 7,
   "id": "20154057",
   "metadata": {},
   "outputs": [
    {
     "name": "stdout",
     "output_type": "stream",
     "text": [
      "len(col_names) = 149\n"
     ]
    }
   ],
   "source": [
    "cars_array,col_names = process(cars_dataset)"
   ]
  },
  {
   "cell_type": "markdown",
   "id": "cfdd0a80",
   "metadata": {},
   "source": [
    "### Splitting the dataset into train and test sets"
   ]
  },
  {
   "cell_type": "code",
   "execution_count": 8,
   "id": "2d7f7b74",
   "metadata": {},
   "outputs": [
    {
     "name": "stdout",
     "output_type": "stream",
     "text": [
      "Train size: 0.600\n",
      "Validation size: 0.200\n",
      "Test size: 0.200\n"
     ]
    }
   ],
   "source": [
    "random_state = 2023\n",
    "\n",
    "x =  cars_array[:, :-1]\n",
    "y =  cars_array[:,-1]\n",
    "\n",
    "x_train, x_test_val, y_train, y_test_val = train_test_split(x, y, test_size=0.4, random_state=random_state)\n",
    "x_test, x_val, y_test, y_val = train_test_split(x_test_val, y_test_val, test_size=0.5, random_state=random_state)\n",
    "\n",
    "# Validate size (as %) of sets\n",
    "print(\"Train size: %.3f\" % (x_train.shape[0]/ x.shape[0]))\n",
    "print(\"Validation size: %.3f\" % (x_val.shape[0]/ x.shape[0]))\n",
    "print(\"Test size: %.3f\" % (x_test.shape[0]/ x.shape[0]))\n"
   ]
  },
  {
   "cell_type": "markdown",
   "id": "5cd94899",
   "metadata": {},
   "source": [
    "Prep MPSE function"
   ]
  },
  {
   "cell_type": "code",
   "execution_count": 9,
   "id": "5402b46c",
   "metadata": {},
   "outputs": [],
   "source": [
    "def mape(actual, predicted):\n",
    "    return sum(abs((actual - predicted) / actual)) / len(actual)"
   ]
  },
  {
   "cell_type": "code",
   "execution_count": 10,
   "id": "79ed5c01",
   "metadata": {},
   "outputs": [],
   "source": [
    "# Prep for BV-graph\n",
    "\n",
    "num_test = 20\n",
    "np.random.seed(random_state)\n",
    "cnt= 50\n",
    "select_index = [np.random.choice(len(x_test)-1,cnt) for i in range(num_test)]"
   ]
  },
  {
   "cell_type": "markdown",
   "id": "591496f4",
   "metadata": {},
   "source": [
    "### Scaling the train and test sets using Robust and Standard Scaler\n",
    "\n",
    "Robust and Standard scaling helps with eliminating the outliers, normalizing, and standardizing the datasets"
   ]
  },
  {
   "cell_type": "code",
   "execution_count": 11,
   "id": "a69a3029",
   "metadata": {},
   "outputs": [],
   "source": [
    "def scaling(x, y):\n",
    "    scale = preprocessing.RobustScaler()\n",
    "    x_t1 = scale.fit_transform(x, y)\n",
    "    \n",
    "    scale = preprocessing.StandardScaler()\n",
    "    x_t2 = scale.fit_transform(x_t1, y)\n",
    "    \n",
    "    return(x_t2)"
   ]
  },
  {
   "cell_type": "code",
   "execution_count": 12,
   "id": "979b69a1",
   "metadata": {},
   "outputs": [],
   "source": [
    "x_train_scaled = scaling(x_train, y_train)\n",
    "x_test_scaled = scaling(x_test, y_test)\n",
    "x_val_scaled = scaling(x_val, y_val)"
   ]
  },
  {
   "cell_type": "code",
   "execution_count": 13,
   "id": "d82599ca",
   "metadata": {},
   "outputs": [
    {
     "data": {
      "text/plain": [
       "(952025, 149)"
      ]
     },
     "execution_count": 13,
     "metadata": {},
     "output_type": "execute_result"
    }
   ],
   "source": [
    "x_train_scaled.shape"
   ]
  },
  {
   "cell_type": "code",
   "execution_count": 14,
   "id": "0b9f7539",
   "metadata": {},
   "outputs": [],
   "source": [
    "def scaling_std(x, y):\n",
    "    scale = preprocessing.RobustScaler()\n",
    "    return scale.fit_transform(x, y)\n",
    "\n",
    "x_train_scaledstd = scaling_std(x_train, y_train)\n",
    "x_test_scaledstd = scaling_std(x_test, y_test)\n",
    "x_val_scaledstd = scaling_std(x_val, y_val)"
   ]
  },
  {
   "cell_type": "markdown",
   "id": "d78e98cb",
   "metadata": {},
   "source": [
    "# Decision Tree Analysis (Linear Regression)"
   ]
  },
  {
   "cell_type": "markdown",
   "id": "023ee647",
   "metadata": {},
   "source": [
    "### Run DT on NOT scaled variables"
   ]
  },
  {
   "cell_type": "code",
   "execution_count": 180,
   "id": "d404a38d",
   "metadata": {},
   "outputs": [
    {
     "data": {
      "text/plain": [
       "DecisionTreeRegressor(random_state=2023)"
      ]
     },
     "execution_count": 180,
     "metadata": {},
     "output_type": "execute_result"
    }
   ],
   "source": [
    "dt_notscaled = tree.DecisionTreeRegressor(random_state = random_state)\n",
    "dt_notscaled.fit(x_train, y_train)"
   ]
  },
  {
   "cell_type": "code",
   "execution_count": 181,
   "id": "7801de86",
   "metadata": {},
   "outputs": [
    {
     "name": "stdout",
     "output_type": "stream",
     "text": [
      "RMSE: 9411.820947\n",
      "R^2: 0.639744\n",
      "MAPE: 0.103159\n"
     ]
    }
   ],
   "source": [
    "y_pred_dt_notscaled = dt_notscaled.predict(x_val)\n",
    "\n",
    "print(\"RMSE: %.6f\" % np.sqrt(metrics.mean_squared_error(y_val, y_pred_dt_notscaled)))\n",
    "print(\"R^2: %.6f\" % metrics.r2_score(y_val, y_pred_dt_notscaled))\n",
    "print(\"MAPE: %.6f\" % mape(y_val, y_pred_dt_notscaled))\n"
   ]
  },
  {
   "cell_type": "code",
   "execution_count": 182,
   "id": "8788b2e5",
   "metadata": {},
   "outputs": [
    {
     "name": "stdout",
     "output_type": "stream",
     "text": [
      "Mean Error, x = 10203.906000  y = 10203.906000\n",
      "Mean Var Error, x = 221546393.422010  y = 221546393.422010\n"
     ]
    },
    {
     "data": {
      "image/png": "[encoded data removed]",
      "text/plain": [
       "<Figure size 432x288 with 1 Axes>"
      ]
     },
     "metadata": {},
     "output_type": "display_data"
    }
   ],
   "source": [
    "# Prep for BV-graph\n",
    "plotsize = (-15000,15000)\n",
    "\n",
    "# Create Bias-Variance graph for dt_notscaled\n",
    "\n",
    "error = np.zeros((num_test, 2))\n",
    "var = np.zeros((num_test, 2))\n",
    "for i in range(num_test):\n",
    "    err = y_val[select_index[i]] - dt_notscaled.predict(x_val_scaled[select_index[i],:])\n",
    "    error[i,:] = np.mean(err, axis = 0)\n",
    "    var[i,:] = np.var(err, axis = 0)\n",
    "\n",
    "\n",
    "plt.subplot(1,1,1)\n",
    "plt.scatter(error[:,0], error[:,1], color = 'red')\n",
    "plt.scatter(np.mean(error[:,0]), np.mean(error[:,1]), marker = 'x', color = 'blue')\n",
    "plt.scatter(0.0, 0.0, marker = 'x', color = 'green')\n",
    "plt.xlim(plotsize[0], plotsize[1])\n",
    "plt.ylim(plotsize[0], plotsize[1])\n",
    "\n",
    "print(\"Mean Error, x = %.6f\" % np.mean(error[:,0]),\" y = %.6f\" % np.mean(error[:,1])  )\n",
    "print(\"Mean Var Error, x = %.6f\" % np.mean(var[:,0]),\" y = %.6f\" % np.mean(var[:,1])  )"
   ]
  },
  {
   "cell_type": "markdown",
   "id": "86dd4b17",
   "metadata": {},
   "source": [
    "### Run DT on scaled variables (STD)"
   ]
  },
  {
   "cell_type": "code",
   "execution_count": 183,
   "id": "4738866b",
   "metadata": {},
   "outputs": [
    {
     "data": {
      "text/plain": [
       "DecisionTreeRegressor(random_state=2023)"
      ]
     },
     "execution_count": 183,
     "metadata": {},
     "output_type": "execute_result"
    }
   ],
   "source": [
    "dt_scaledstd = tree.DecisionTreeRegressor(random_state = random_state)\n",
    "dt_scaledstd.fit(x_train_scaledstd, y_train)"
   ]
  },
  {
   "cell_type": "code",
   "execution_count": 184,
   "id": "ca63310f",
   "metadata": {},
   "outputs": [
    {
     "name": "stdout",
     "output_type": "stream",
     "text": [
      "RMSE: 8153.841152\n",
      "R^2: 0.729611\n",
      "MAPE: 0.104714\n"
     ]
    }
   ],
   "source": [
    "y_pred_dt_scaledstd = dt_scaledstd.predict(x_val_scaledstd)\n",
    "\n",
    "print(\"RMSE: %.6f\" % np.sqrt(metrics.mean_squared_error(y_val, y_pred_dt_scaledstd)))\n",
    "print(\"R^2: %.6f\" % metrics.r2_score(y_val, y_pred_dt_scaledstd))\n",
    "print(\"MAPE: %.6f\" % mape(y_val, y_pred_dt_scaledstd))\n"
   ]
  },
  {
   "cell_type": "code",
   "execution_count": 185,
   "id": "f2168937",
   "metadata": {},
   "outputs": [
    {
     "name": "stdout",
     "output_type": "stream",
     "text": [
      "Mean Error, x = -184.934476  y = -184.934476\n",
      "Mean Var Error, x = 17826335.368777  y = 17826335.368777\n"
     ]
    },
    {
     "data": {
      "image/png": "[encoded data removed]",
      "text/plain": [
       "<Figure size 432x288 with 1 Axes>"
      ]
     },
     "metadata": {},
     "output_type": "display_data"
    }
   ],
   "source": [
    "# Prep for BV-graph\n",
    "plotsize = (-300,300)\n",
    "\n",
    "# Create Bias-Variance graph for dt_notscaled\n",
    "\n",
    "error = np.zeros((num_test, 2))\n",
    "var = np.zeros((num_test, 2))\n",
    "for i in range(num_test):\n",
    "    err = y_val[select_index[i]] - y_pred_dt_scaledstd[select_index[i]]\n",
    "    error[i,:] = np.mean(err, axis = 0)\n",
    "    var[i,:] = np.var(err, axis = 0)\n",
    "\n",
    "\n",
    "plt.subplot(1,1,1)\n",
    "plt.scatter(error[:,0], error[:,1], color = 'red')\n",
    "plt.scatter(np.mean(error[:,0]), np.mean(error[:,1]), marker = 'x', color = 'blue')\n",
    "plt.scatter(0.0, 0.0, marker = 'x', color = 'green')\n",
    "plt.xlim(plotsize[0], plotsize[1])\n",
    "plt.ylim(plotsize[0], plotsize[1])\n",
    "\n",
    "print(\"Mean Error, x = %.6f\" % np.mean(error[:,0]),\" y = %.6f\" % np.mean(error[:,1])  )\n",
    "print(\"Mean Var Error, x = %.6f\" % np.mean(var[:,0]),\" y = %.6f\" % np.mean(var[:,1])  )\n"
   ]
  },
  {
   "cell_type": "markdown",
   "id": "d14bbd9a",
   "metadata": {},
   "source": [
    "### Run DT on scaled variables (Robust + STD)"
   ]
  },
  {
   "cell_type": "code",
   "execution_count": 186,
   "id": "cac9f840",
   "metadata": {},
   "outputs": [
    {
     "data": {
      "text/plain": [
       "DecisionTreeRegressor(random_state=2023)"
      ]
     },
     "execution_count": 186,
     "metadata": {},
     "output_type": "execute_result"
    }
   ],
   "source": [
    "dt_scaled = tree.DecisionTreeRegressor(random_state = random_state)\n",
    "dt_scaled.fit(x_train_scaled, y_train)"
   ]
  },
  {
   "cell_type": "code",
   "execution_count": 187,
   "id": "147dba0c",
   "metadata": {},
   "outputs": [
    {
     "name": "stdout",
     "output_type": "stream",
     "text": [
      "RMSE: 6787.011938\n",
      "R^2: 0.812664\n",
      "MAPE: 0.112231\n"
     ]
    }
   ],
   "source": [
    "y_pred_dt_scaled = dt_scaled.predict(x_val_scaled)\n",
    "print(\"RMSE: %.6f\" % np.sqrt(metrics.mean_squared_error(y_val, y_pred_dt_scaled)))\n",
    "print(\"R^2: %.6f\" % metrics.r2_score(y_val, y_pred_dt_scaled))\n",
    "print(\"MAPE: %.6f\" % mape(y_val, y_pred_dt_scaled))\n"
   ]
  },
  {
   "cell_type": "code",
   "execution_count": 188,
   "id": "bb0b0628",
   "metadata": {},
   "outputs": [
    {
     "name": "stdout",
     "output_type": "stream",
     "text": [
      "Mean Error, x = -311.033809  y = -311.033809\n",
      "Mean Var Error, x = 21661116.901761  y = 21661116.901761\n"
     ]
    },
    {
     "data": {
      "image/png": "[encoded data removed]",
      "text/plain": [
       "<Figure size 432x288 with 1 Axes>"
      ]
     },
     "metadata": {},
     "output_type": "display_data"
    }
   ],
   "source": [
    "# Prep for BV-graph\n",
    "plotsize = (-500,500)\n",
    "\n",
    "# Create Bias-Variance graph for DT1\n",
    "\n",
    "error = np.zeros((num_test, 2))\n",
    "var = np.zeros((num_test, 2))\n",
    "for i in range(num_test):\n",
    "    err = y_val[select_index[i]] - y_pred_dt_scaled[select_index[i]]\n",
    "    error[i,:] = np.mean(err, axis = 0)\n",
    "    var[i,:] = np.var(err, axis = 0)\n",
    "\n",
    "\n",
    "plt.subplot(1,1,1)\n",
    "plt.scatter(error[:,0], error[:,1], color = 'red')\n",
    "plt.scatter(np.mean(error[:,0]), np.mean(error[:,1]), marker = 'x', color = 'blue')\n",
    "plt.scatter(0.0, 0.0, marker = 'x', color = 'green')\n",
    "plt.xlim(plotsize[0], plotsize[1])\n",
    "plt.ylim(plotsize[0], plotsize[1])\n",
    "\n",
    "print(\"Mean Error, x = %.6f\" % np.mean(error[:,0]),\" y = %.6f\" % np.mean(error[:,1])  )\n",
    "print(\"Mean Var Error, x = %.6f\" % np.mean(var[:,0]),\" y = %.6f\" % np.mean(var[:,1])  )\n",
    "\n",
    "mean_error_dt_scaled = np.mean(error[:,0])\n",
    "mean_var_error_dt_scaled =np.mean(var[:,0])"
   ]
  },
  {
   "cell_type": "markdown",
   "id": "5d2d2774",
   "metadata": {},
   "source": [
    "## Run feature importance analysis on DT on scaled variables (RBST + STD)"
   ]
  },
  {
   "cell_type": "code",
   "execution_count": 189,
   "id": "ad41a5c2",
   "metadata": {},
   "outputs": [
    {
     "data": {
      "text/plain": [
       "(0.0, 0.6)"
      ]
     },
     "execution_count": 189,
     "metadata": {},
     "output_type": "execute_result"
    },
    {
     "data": {
      "image/png": "[encoded data removed]",
      "text/plain": [
       "<Figure size 1440x360 with 1 Axes>"
      ]
     },
     "metadata": {},
     "output_type": "display_data"
    }
   ],
   "source": [
    "#all features\n",
    "f = plt.subplots(figsize=(20,5))\n",
    "plt.bar(col_names[:],list(dt_scaled.feature_importances_[:]))\n",
    "plt.ylim(0,0.6)"
   ]
  },
  {
   "cell_type": "markdown",
   "id": "923cc18c",
   "metadata": {},
   "source": [
    "Note: low feature importance noted likely because the one-hot encoding makes for sparse data. Hence zoom in on high feature importance variables."
   ]
  },
  {
   "cell_type": "code",
   "execution_count": 190,
   "id": "49500e0b",
   "metadata": {},
   "outputs": [
    {
     "data": {
      "text/plain": [
       "(0.0, 0.1)"
      ]
     },
     "execution_count": 190,
     "metadata": {},
     "output_type": "execute_result"
    },
    {
     "data": {
      "image/png": "[encoded data removed]",
      "text/plain": [
       "<Figure size 1440x360 with 1 Axes>"
      ]
     },
     "metadata": {},
     "output_type": "display_data"
    }
   ],
   "source": [
    "# body type\n",
    "left, right = 0, 8\n",
    "\n",
    "f = plt.subplots(figsize=(20,5))\n",
    "plt.bar(col_names[left:right],list(dt_scaled.feature_importances_[left:right]))\n",
    "plt.ylim(0,0.1)"
   ]
  },
  {
   "cell_type": "code",
   "execution_count": 191,
   "id": "f76f4e7d",
   "metadata": {},
   "outputs": [
    {
     "data": {
      "text/plain": [
       "(0.0, 0.1)"
      ]
     },
     "execution_count": 191,
     "metadata": {},
     "output_type": "execute_result"
    },
    {
     "data": {
      "image/png": "[encoded data removed]",
      "text/plain": [
       "<Figure size 1440x360 with 1 Axes>"
      ]
     },
     "metadata": {},
     "output_type": "display_data"
    }
   ],
   "source": [
    "# engine type\n",
    "left, right = 8, 12\n",
    "\n",
    "f = plt.subplots(figsize=(20,5))\n",
    "plt.bar(col_names[left:right],list(dt_scaled.feature_importances_[left:right]))\n",
    "plt.ylim(0,0.1)"
   ]
  },
  {
   "cell_type": "code",
   "execution_count": 192,
   "id": "d3763f8f",
   "metadata": {},
   "outputs": [
    {
     "data": {
      "text/plain": [
       "(0.0, 0.1)"
      ]
     },
     "execution_count": 192,
     "metadata": {},
     "output_type": "execute_result"
    },
    {
     "data": {
      "image/png": "[encoded data removed]",
      "text/plain": [
       "<Figure size 1440x360 with 1 Axes>"
      ]
     },
     "metadata": {},
     "output_type": "display_data"
    }
   ],
   "source": [
    "# fuel type & is_new_True\n",
    "left, right = 12, 18\n",
    "\n",
    "f = plt.subplots(figsize=(20,5))\n",
    "plt.bar(col_names[left:right],list(dt_scaled.feature_importances_[left:right]))\n",
    "plt.ylim(0,0.1)"
   ]
  },
  {
   "cell_type": "code",
   "execution_count": 193,
   "id": "12200ac4",
   "metadata": {},
   "outputs": [
    {
     "data": {
      "text/plain": [
       "(0.0, 0.1)"
      ]
     },
     "execution_count": 193,
     "metadata": {},
     "output_type": "execute_result"
    },
    {
     "data": {
      "image/png": "[encoded data removed]",
      "text/plain": [
       "<Figure size 2160x360 with 1 Axes>"
      ]
     },
     "metadata": {},
     "output_type": "display_data"
    }
   ],
   "source": [
    "# listing_color\n",
    "left, right = 18,32\n",
    "\n",
    "f = plt.subplots(figsize=(30,5))\n",
    "plt.bar(col_names[left:right],list(dt_scaled.feature_importances_[left:right]))\n",
    "plt.ylim(0,0.1)"
   ]
  },
  {
   "cell_type": "code",
   "execution_count": 194,
   "id": "d1989b74",
   "metadata": {},
   "outputs": [
    {
     "data": {
      "text/plain": [
       "(0.0, 0.1)"
      ]
     },
     "execution_count": 194,
     "metadata": {},
     "output_type": "execute_result"
    },
    {
     "data": {
      "image/png": "[encoded data removed]",
      "text/plain": [
       "<Figure size 2160x360 with 1 Axes>"
      ]
     },
     "metadata": {},
     "output_type": "display_data"
    }
   ],
   "source": [
    "# make_name\n",
    "left, right = 32,78\n",
    "\n",
    "f = plt.subplots(figsize=(30,5))\n",
    "plt.bar(col_names[left:right],list(dt_scaled.feature_importances_[left:right]))\n",
    "plt.ylim(0,0.1)"
   ]
  },
  {
   "cell_type": "code",
   "execution_count": 195,
   "id": "6325b58f",
   "metadata": {},
   "outputs": [
    {
     "data": {
      "text/plain": [
       "(0.0, 0.1)"
      ]
     },
     "execution_count": 195,
     "metadata": {},
     "output_type": "execute_result"
    },
    {
     "data": {
      "image/png": "[encoded data removed]",
      "text/plain": [
       "<Figure size 2160x360 with 1 Axes>"
      ]
     },
     "metadata": {},
     "output_type": "display_data"
    }
   ],
   "source": [
    "# maximum_seating\n",
    "left, right = 78,88\n",
    "\n",
    "f = plt.subplots(figsize=(30,5))\n",
    "plt.bar(col_names[left:right],list(dt_scaled.feature_importances_[left:right]))\n",
    "plt.ylim(0,0.1)"
   ]
  },
  {
   "cell_type": "code",
   "execution_count": 196,
   "id": "fb03cddf",
   "metadata": {},
   "outputs": [
    {
     "data": {
      "text/plain": [
       "(0.0, 0.1)"
      ]
     },
     "execution_count": 196,
     "metadata": {},
     "output_type": "execute_result"
    },
    {
     "data": {
      "image/png": "[encoded data removed]",
      "text/plain": [
       "<Figure size 720x360 with 1 Axes>"
      ]
     },
     "metadata": {},
     "output_type": "display_data"
    }
   ],
   "source": [
    "# transmission\n",
    "left, right = 88,91\n",
    "\n",
    "f = plt.subplots(figsize=(10,5))\n",
    "plt.bar(col_names[left:right],list(dt_scaled.feature_importances_[left:right]))\n",
    "plt.ylim(0,0.1)"
   ]
  },
  {
   "cell_type": "code",
   "execution_count": 197,
   "id": "ca966d4a",
   "metadata": {},
   "outputs": [
    {
     "data": {
      "text/plain": [
       "(0.0, 0.1)"
      ]
     },
     "execution_count": 197,
     "metadata": {},
     "output_type": "execute_result"
    },
    {
     "data": {
      "image/png": "[encoded data removed]",
      "text/plain": [
       "<Figure size 720x360 with 1 Axes>"
      ]
     },
     "metadata": {},
     "output_type": "display_data"
    }
   ],
   "source": [
    "# wheel_system\n",
    "left, right = 91,95\n",
    "\n",
    "f = plt.subplots(figsize=(10,5))\n",
    "plt.bar(col_names[left:right],list(dt_scaled.feature_importances_[left:right]))\n",
    "plt.ylim(0,0.1)"
   ]
  },
  {
   "cell_type": "code",
   "execution_count": 198,
   "id": "866b2781",
   "metadata": {},
   "outputs": [
    {
     "data": {
      "text/plain": [
       "(0.0, 0.1)"
      ]
     },
     "execution_count": 198,
     "metadata": {},
     "output_type": "execute_result"
    },
    {
     "data": {
      "image/png": "[encoded data removed]",
      "text/plain": [
       "<Figure size 2160x360 with 1 Axes>"
      ]
     },
     "metadata": {},
     "output_type": "display_data"
    }
   ],
   "source": [
    "# state\n",
    "left, right = 95,145\n",
    "\n",
    "f = plt.subplots(figsize=(30,5))\n",
    "plt.bar(col_names[left:right],list(dt_scaled.feature_importances_[left:right]))\n",
    "plt.ylim(0,0.1)"
   ]
  },
  {
   "cell_type": "code",
   "execution_count": 199,
   "id": "e89b9436",
   "metadata": {},
   "outputs": [
    {
     "data": {
      "text/plain": [
       "(0.0, 0.6)"
      ]
     },
     "execution_count": 199,
     "metadata": {},
     "output_type": "execute_result"
    },
    {
     "data": {
      "image/png": "[encoded data removed]",
      "text/plain": [
       "<Figure size 2160x360 with 1 Axes>"
      ]
     },
     "metadata": {},
     "output_type": "display_data"
    }
   ],
   "source": [
    "# continuous variables\n",
    "left = 145\n",
    "\n",
    "f = plt.subplots(figsize=(30,5))\n",
    "plt.bar(col_names[left:],list(dt_scaled.feature_importances_[left:]))\n",
    "plt.ylim(0,0.6)"
   ]
  },
  {
   "cell_type": "markdown",
   "id": "8bf3d200",
   "metadata": {},
   "source": [
    "## Omit variables based on feature importance results"
   ]
  },
  {
   "cell_type": "code",
   "execution_count": 15,
   "id": "278cf95e",
   "metadata": {},
   "outputs": [],
   "source": [
    "def omit_var(start_idx, end_idx, data):\n",
    "    idx_list = [idx for idx in range(start_idx,end_idx +1)]\n",
    "    return np.delete(data, idx_list, axis=1)\n",
    "\n",
    "omitted_cols = []"
   ]
  },
  {
   "cell_type": "code",
   "execution_count": 29,
   "id": "6362b68a",
   "metadata": {},
   "outputs": [],
   "source": [
    "standard_plot_size = (-1000,1000)"
   ]
  },
  {
   "cell_type": "markdown",
   "id": "bb735f34",
   "metadata": {},
   "source": [
    "### Omit tranmission variable"
   ]
  },
  {
   "cell_type": "code",
   "execution_count": 16,
   "id": "19c6d23b",
   "metadata": {},
   "outputs": [
    {
     "name": "stdout",
     "output_type": "stream",
     "text": [
      "transmission_M transmission_CVT\n"
     ]
    }
   ],
   "source": [
    "# check col indexes\n",
    "print(col_names[90], col_names[88])"
   ]
  },
  {
   "cell_type": "code",
   "execution_count": 203,
   "id": "64e85eb9",
   "metadata": {},
   "outputs": [
    {
     "name": "stdout",
     "output_type": "stream",
     "text": [
      "['transmission_CVT', 'transmission_Dual Clutch', 'transmission_M']\n"
     ]
    }
   ],
   "source": [
    "print(col_names[88:90+1])"
   ]
  },
  {
   "cell_type": "code",
   "execution_count": 17,
   "id": "9795415e",
   "metadata": {},
   "outputs": [],
   "source": [
    "# omit columns\n",
    "col_names2 = copy.deepcopy(col_names)\n",
    "start_idx, end_idx = 88, 90\n",
    "\n",
    "x_test_scaled2 = omit_var(start_idx, end_idx, x_test_scaled)\n",
    "x_train_scaled2 = omit_var(start_idx, end_idx, x_train_scaled)\n",
    "x_val_scaled2 = omit_var(start_idx, end_idx, x_val_scaled)\n",
    "\n",
    "remove = ['transmission_CVT', 'transmission_Dual Clutch', 'transmission_M']\n",
    "for i in remove:\n",
    "    col_names2.remove(i)\n",
    "omitted_cols += [(start_idx, end_idx)]"
   ]
  },
  {
   "cell_type": "code",
   "execution_count": 205,
   "id": "862e02f6",
   "metadata": {},
   "outputs": [
    {
     "data": {
      "text/plain": [
       "(317342, 146)"
      ]
     },
     "execution_count": 205,
     "metadata": {},
     "output_type": "execute_result"
    }
   ],
   "source": [
    "x_val_scaled2.shape"
   ]
  },
  {
   "cell_type": "markdown",
   "id": "cc741fce",
   "metadata": {},
   "source": [
    "##### Run DT Regression"
   ]
  },
  {
   "cell_type": "code",
   "execution_count": 206,
   "id": "b5ce0508",
   "metadata": {},
   "outputs": [
    {
     "data": {
      "text/plain": [
       "DecisionTreeRegressor(random_state=2023)"
      ]
     },
     "execution_count": 206,
     "metadata": {},
     "output_type": "execute_result"
    }
   ],
   "source": [
    "dt_scaled_2 = tree.DecisionTreeRegressor(random_state = random_state)\n",
    "dt_scaled_2.fit(x_train_scaled2, y_train)"
   ]
  },
  {
   "cell_type": "code",
   "execution_count": 207,
   "id": "a86159a4",
   "metadata": {},
   "outputs": [
    {
     "name": "stdout",
     "output_type": "stream",
     "text": [
      "RMSE: 6803.654947\n",
      "R^2: 0.811744\n",
      "MAPE: 0.112848\n"
     ]
    }
   ],
   "source": [
    "y_pred_dt_scaled_2 = dt_scaled_2.predict(x_val_scaled2)\n",
    "\n",
    "print(\"RMSE: %.6f\" % np.sqrt(metrics.mean_squared_error(y_val, y_pred_dt_scaled_2)))\n",
    "print(\"R^2: %.6f\" % metrics.r2_score(y_val, y_pred_dt_scaled_2))\n",
    "print(\"MAPE: %.6f\" % mape(y_val, y_pred_dt_scaled_2))\n"
   ]
  },
  {
   "cell_type": "code",
   "execution_count": 208,
   "id": "ab060876",
   "metadata": {},
   "outputs": [
    {
     "name": "stdout",
     "output_type": "stream",
     "text": [
      "Mean Error, x = -266.134609  y = -266.134609\n",
      "Mean Var Error, x = 20650338.287766  y = 20650338.287766\n"
     ]
    },
    {
     "data": {
      "image/png": "[encoded data removed]",
      "text/plain": [
       "<Figure size 432x288 with 1 Axes>"
      ]
     },
     "metadata": {},
     "output_type": "display_data"
    }
   ],
   "source": [
    "# Create Bias-Variance graph for dt_notscaled\n",
    "\n",
    "error = np.zeros((num_test, 2))\n",
    "var = np.zeros((num_test, 2))\n",
    "for i in range(num_test):\n",
    "    err = y_val[select_index[i]] - y_pred_dt_scaled_2[select_index[i]]\n",
    "    error[i,:] = np.mean(err, axis = 0)\n",
    "    var[i,:] = np.var(err, axis = 0)\n",
    "\n",
    "\n",
    "plt.subplot(1,1,1)\n",
    "plt.scatter(error[:,0], error[:,1], color = 'red')\n",
    "plt.scatter(np.mean(error[:,0]), np.mean(error[:,1]), marker = 'x', color = 'blue')\n",
    "plt.scatter(0.0, 0.0, marker = 'x', color = 'green')\n",
    "plt.xlim(standard_plot_size[0], standard_plot_size[1])\n",
    "plt.ylim(standard_plot_size[0], standard_plot_size[1])\n",
    "\n",
    "print(\"Mean Error, x = %.6f\" % np.mean(error[:,0]),\" y = %.6f\" % np.mean(error[:,1])  )\n",
    "print(\"Mean Var Error, x = %.6f\" % np.mean(var[:,0]),\" y = %.6f\" % np.mean(var[:,1])  )\n",
    "\n",
    "mean_error_dt_scaled_2 = np.mean(error[:,0])\n",
    "mean_var_error_dt_scaled_2 =np.mean(var[:,0])"
   ]
  },
  {
   "cell_type": "markdown",
   "id": "30548493",
   "metadata": {},
   "source": [
    "### Omit fuel_type variable"
   ]
  },
  {
   "cell_type": "code",
   "execution_count": 209,
   "id": "2c695132",
   "metadata": {},
   "outputs": [
    {
     "name": "stdout",
     "output_type": "stream",
     "text": [
      "fuel_type_Compressed Natural Gas / fuel_type_Hybrid\n"
     ]
    }
   ],
   "source": [
    "# check col indexes\n",
    "print(col_names2[12],\"/\" , col_names2[16])"
   ]
  },
  {
   "cell_type": "code",
   "execution_count": 210,
   "id": "4372e84f",
   "metadata": {},
   "outputs": [
    {
     "name": "stdout",
     "output_type": "stream",
     "text": [
      "['fuel_type_Compressed Natural Gas', 'fuel_type_Diesel', 'fuel_type_Flex Fuel Vehicle', 'fuel_type_Gasoline', 'fuel_type_Hybrid']\n"
     ]
    }
   ],
   "source": [
    "print(col_names2[12:16+1])"
   ]
  },
  {
   "cell_type": "code",
   "execution_count": 18,
   "id": "a57d3be3",
   "metadata": {},
   "outputs": [],
   "source": [
    "# omit columns\n",
    "col_names3 = copy.deepcopy(col_names2)\n",
    "start_idx, end_idx = 12, 16\n",
    "\n",
    "x_test_scaled3 = omit_var(start_idx, end_idx, x_test_scaled2)\n",
    "x_train_scaled3 = omit_var(start_idx, end_idx, x_train_scaled2)\n",
    "x_val_scaled3 = omit_var(start_idx, end_idx, x_val_scaled2)\n",
    "\n",
    "remove = ['fuel_type_Compressed Natural Gas', 'fuel_type_Diesel', 'fuel_type_Flex Fuel Vehicle', 'fuel_type_Gasoline', 'fuel_type_Hybrid']\n",
    "for i in remove:\n",
    "    col_names3.remove(i)\n",
    "omitted_cols += [(start_idx, end_idx)]"
   ]
  },
  {
   "cell_type": "code",
   "execution_count": 212,
   "id": "f8c228fb",
   "metadata": {},
   "outputs": [
    {
     "data": {
      "text/plain": [
       "(317342, 141)"
      ]
     },
     "execution_count": 212,
     "metadata": {},
     "output_type": "execute_result"
    }
   ],
   "source": [
    "x_val_scaled3.shape"
   ]
  },
  {
   "cell_type": "markdown",
   "id": "c207e0a7",
   "metadata": {},
   "source": [
    "##### Run DT Regression"
   ]
  },
  {
   "cell_type": "code",
   "execution_count": 213,
   "id": "6e630950",
   "metadata": {},
   "outputs": [
    {
     "data": {
      "text/plain": [
       "DecisionTreeRegressor(random_state=2023)"
      ]
     },
     "execution_count": 213,
     "metadata": {},
     "output_type": "execute_result"
    }
   ],
   "source": [
    "dt_scaled_3 = tree.DecisionTreeRegressor(random_state = random_state)\n",
    "dt_scaled_3.fit(x_train_scaled3, y_train)"
   ]
  },
  {
   "cell_type": "code",
   "execution_count": 214,
   "id": "1453c118",
   "metadata": {},
   "outputs": [
    {
     "name": "stdout",
     "output_type": "stream",
     "text": [
      "RMSE: 6820.474784\n",
      "R^2: 0.810812\n",
      "MAPE: 0.113254\n"
     ]
    }
   ],
   "source": [
    "y_pred_dt_scaled_3 = dt_scaled_3.predict(x_val_scaled3)\n",
    "\n",
    "print(\"RMSE: %.6f\" % np.sqrt(metrics.mean_squared_error(y_val, y_pred_dt_scaled_3)))\n",
    "print(\"R^2: %.6f\" % metrics.r2_score(y_val, y_pred_dt_scaled_3))\n",
    "print(\"MAPE: %.6f\" % mape(y_val, y_pred_dt_scaled_3))\n"
   ]
  },
  {
   "cell_type": "code",
   "execution_count": 215,
   "id": "c06213de",
   "metadata": {},
   "outputs": [
    {
     "name": "stdout",
     "output_type": "stream",
     "text": [
      "Mean Error, x = -154.551042  y = -154.551042\n",
      "Mean Var Error, x = 19750958.856510  y = 19750958.856510\n"
     ]
    },
    {
     "data": {
      "image/png": "[encoded data removed]",
      "text/plain": [
       "<Figure size 432x288 with 1 Axes>"
      ]
     },
     "metadata": {},
     "output_type": "display_data"
    }
   ],
   "source": [
    "# Create Bias-Variance graph for dt_notscaled\n",
    "\n",
    "error = np.zeros((num_test, 2))\n",
    "var = np.zeros((num_test, 2))\n",
    "for i in range(num_test):\n",
    "    err = y_val[select_index[i]] - y_pred_dt_scaled_3[select_index[i]]\n",
    "    error[i,:] = np.mean(err, axis = 0)\n",
    "    var[i,:] = np.var(err, axis = 0)\n",
    "\n",
    "\n",
    "plt.subplot(1,1,1)\n",
    "plt.scatter(error[:,0], error[:,1], color = 'red')\n",
    "plt.scatter(np.mean(error[:,0]), np.mean(error[:,1]), marker = 'x', color = 'blue')\n",
    "plt.scatter(0.0, 0.0, marker = 'x', color = 'green')\n",
    "plt.xlim(standard_plot_size[0], standard_plot_size[1])\n",
    "plt.ylim(standard_plot_size[0], standard_plot_size[1])\n",
    "\n",
    "print(\"Mean Error, x = %.6f\" % np.mean(error[:,0]),\" y = %.6f\" % np.mean(error[:,1])  )\n",
    "print(\"Mean Var Error, x = %.6f\" % np.mean(var[:,0]),\" y = %.6f\" % np.mean(var[:,1])  )\n",
    "\n",
    "mean_error_dt_scaled_3 = np.mean(error[:,0])\n",
    "mean_var_error_dt_scaled_3 =np.mean(var[:,0])"
   ]
  },
  {
   "cell_type": "markdown",
   "id": "a8a94e8e",
   "metadata": {},
   "source": [
    "### Omit (some) maximum_seating variable"
   ]
  },
  {
   "cell_type": "code",
   "execution_count": 216,
   "id": "d75540f9",
   "metadata": {},
   "outputs": [
    {
     "name": "stdout",
     "output_type": "stream",
     "text": [
      "maximum_seating_12 seats / maximum_seating_3 seats\n",
      "maximum_seating_9 seats\n"
     ]
    }
   ],
   "source": [
    "# check col indexes\n",
    "print(col_names3[73] , \"/\", col_names3[76])\n",
    "print(col_names3[82])"
   ]
  },
  {
   "cell_type": "code",
   "execution_count": 217,
   "id": "8dd7643c",
   "metadata": {},
   "outputs": [
    {
     "name": "stdout",
     "output_type": "stream",
     "text": [
      "['maximum_seating_12 seats', 'maximum_seating_15 seats', 'maximum_seating_2 seats', 'maximum_seating_3 seats']\n"
     ]
    }
   ],
   "source": [
    "print(col_names3[73:76+1] )"
   ]
  },
  {
   "cell_type": "code",
   "execution_count": 19,
   "id": "7ff14189",
   "metadata": {},
   "outputs": [],
   "source": [
    "# omit columns\n",
    "col_names4 = copy.deepcopy(col_names3)\n",
    "start_idx, end_idx = 82,82\n",
    "\n",
    "x_test_scaled4 = omit_var(start_idx, end_idx, x_test_scaled3)\n",
    "x_train_scaled4 = omit_var(start_idx, end_idx, x_train_scaled3)\n",
    "x_val_scaled4 = omit_var(start_idx, end_idx, x_val_scaled3)\n",
    "\n",
    "omitted_cols += [(start_idx, end_idx)]"
   ]
  },
  {
   "cell_type": "code",
   "execution_count": 219,
   "id": "1c99e6c3",
   "metadata": {},
   "outputs": [
    {
     "data": {
      "text/plain": [
       "(952025, 140)"
      ]
     },
     "execution_count": 219,
     "metadata": {},
     "output_type": "execute_result"
    }
   ],
   "source": [
    "x_train_scaled4.shape"
   ]
  },
  {
   "cell_type": "code",
   "execution_count": 20,
   "id": "8d08b3f4",
   "metadata": {},
   "outputs": [],
   "source": [
    "# omit columns\n",
    "start_idx, end_idx = 73,76\n",
    "\n",
    "x_test_scaled4 = omit_var(start_idx, end_idx, x_test_scaled4)\n",
    "x_train_scaled4 = omit_var(start_idx, end_idx, x_train_scaled4)\n",
    "x_val_scaled4 = omit_var(start_idx, end_idx, x_val_scaled4)\n",
    "\n",
    "remove = ['maximum_seating_12 seats', 'maximum_seating_15 seats', 'maximum_seating_2 seats', 'maximum_seating_3 seats','maximum_seating_9 seats']\n",
    "for i in remove:\n",
    "    col_names4.remove(i)\n",
    "omitted_cols += [(start_idx, end_idx)]"
   ]
  },
  {
   "cell_type": "markdown",
   "id": "538064c3",
   "metadata": {},
   "source": [
    "##### Run DT Regression"
   ]
  },
  {
   "cell_type": "code",
   "execution_count": 221,
   "id": "9bbc8936",
   "metadata": {},
   "outputs": [
    {
     "data": {
      "text/plain": [
       "DecisionTreeRegressor(random_state=2023)"
      ]
     },
     "execution_count": 221,
     "metadata": {},
     "output_type": "execute_result"
    }
   ],
   "source": [
    "dt_scaled_4 = tree.DecisionTreeRegressor(random_state = random_state)\n",
    "dt_scaled_4.fit(x_train_scaled4, y_train)"
   ]
  },
  {
   "cell_type": "code",
   "execution_count": 222,
   "id": "6b61a767",
   "metadata": {},
   "outputs": [
    {
     "name": "stdout",
     "output_type": "stream",
     "text": [
      "RMSE: 6826.025621\n",
      "R^2: 0.810504\n",
      "MAPE: 0.113368\n"
     ]
    }
   ],
   "source": [
    "y_pred_dt_scaled_4 = dt_scaled_4.predict(x_val_scaled4)\n",
    "\n",
    "print(\"RMSE: %.6f\" % np.sqrt(metrics.mean_squared_error(y_val, y_pred_dt_scaled_4)))\n",
    "print(\"R^2: %.6f\" % metrics.r2_score(y_val, y_pred_dt_scaled_4))\n",
    "print(\"MAPE: %.6f\" % mape(y_val, y_pred_dt_scaled_4))"
   ]
  },
  {
   "cell_type": "code",
   "execution_count": 223,
   "id": "d96b9552",
   "metadata": {},
   "outputs": [
    {
     "name": "stdout",
     "output_type": "stream",
     "text": [
      "Mean Error, x = -138.586642  y = -138.586642\n",
      "Mean Var Error, x = 19287497.065859  y = 19287497.065859\n"
     ]
    },
    {
     "data": {
      "image/png": "[encoded data removed]",
      "text/plain": [
       "<Figure size 432x288 with 1 Axes>"
      ]
     },
     "metadata": {},
     "output_type": "display_data"
    }
   ],
   "source": [
    "# Create Bias-Variance graph for dt_notscaled\n",
    "\n",
    "error = np.zeros((num_test, 2))\n",
    "var = np.zeros((num_test, 2))\n",
    "for i in range(num_test):\n",
    "    err = y_val[select_index[i]] - y_pred_dt_scaled_4[select_index[i]]\n",
    "    error[i,:] = np.mean(err, axis = 0)\n",
    "    var[i,:] = np.var(err, axis = 0)\n",
    "\n",
    "\n",
    "plt.subplot(1,1,1)\n",
    "plt.scatter(error[:,0], error[:,1], color = 'red')\n",
    "plt.scatter(np.mean(error[:,0]), np.mean(error[:,1]), marker = 'x', color = 'blue')\n",
    "plt.scatter(0.0, 0.0, marker = 'x', color = 'green')\n",
    "plt.xlim(standard_plot_size[0], standard_plot_size[1])\n",
    "plt.ylim(standard_plot_size[0], standard_plot_size[1])\n",
    "\n",
    "print(\"Mean Error, x = %.6f\" % np.mean(error[:,0]),\" y = %.6f\" % np.mean(error[:,1])  )\n",
    "print(\"Mean Var Error, x = %.6f\" % np.mean(var[:,0]),\" y = %.6f\" % np.mean(var[:,1])  )\n",
    "\n",
    "mean_error_dt_scaled_4 = np.mean(error[:,0])\n",
    "mean_var_error_dt_scaled_4 =np.mean(var[:,0])"
   ]
  },
  {
   "cell_type": "markdown",
   "id": "482253b7",
   "metadata": {},
   "source": [
    "### Omit engine_type variable"
   ]
  },
  {
   "cell_type": "code",
   "execution_count": 224,
   "id": "2e5324da",
   "metadata": {},
   "outputs": [
    {
     "name": "stdout",
     "output_type": "stream",
     "text": [
      "engine_type_I / engine_type_W\n"
     ]
    }
   ],
   "source": [
    "# check col indexes\n",
    "print(col_names4[8], \"/\", col_names4[11])\n"
   ]
  },
  {
   "cell_type": "code",
   "execution_count": 225,
   "id": "b0268fd5",
   "metadata": {},
   "outputs": [
    {
     "name": "stdout",
     "output_type": "stream",
     "text": [
      "['engine_type_I', 'engine_type_R', 'engine_type_V', 'engine_type_W']\n"
     ]
    }
   ],
   "source": [
    "print(col_names4[8:11+1])\n"
   ]
  },
  {
   "cell_type": "code",
   "execution_count": 21,
   "id": "204b352c",
   "metadata": {},
   "outputs": [],
   "source": [
    "# omit columns\n",
    "col_names5 = copy.deepcopy(col_names4)\n",
    "start_idx, end_idx = 8, 11\n",
    "\n",
    "x_test_scaled5 = omit_var(start_idx, end_idx, x_test_scaled4)\n",
    "x_train_scaled5 = omit_var(start_idx, end_idx, x_train_scaled4)\n",
    "x_val_scaled5 = omit_var(start_idx, end_idx, x_val_scaled4)\n",
    "\n",
    "remove = ['engine_type_I', 'engine_type_R', 'engine_type_V', 'engine_type_W']\n",
    "for i in remove:\n",
    "    col_names5.remove(i)\n",
    "omitted_cols += [(start_idx, end_idx)]"
   ]
  },
  {
   "cell_type": "code",
   "execution_count": 227,
   "id": "77d174c6",
   "metadata": {},
   "outputs": [
    {
     "data": {
      "text/plain": [
       "(317342, 132)"
      ]
     },
     "execution_count": 227,
     "metadata": {},
     "output_type": "execute_result"
    }
   ],
   "source": [
    "x_val_scaled5.shape"
   ]
  },
  {
   "cell_type": "markdown",
   "id": "0a52e892",
   "metadata": {},
   "source": [
    "##### Run DT Regression"
   ]
  },
  {
   "cell_type": "code",
   "execution_count": 228,
   "id": "3191b191",
   "metadata": {},
   "outputs": [
    {
     "data": {
      "text/plain": [
       "DecisionTreeRegressor(random_state=2023)"
      ]
     },
     "execution_count": 228,
     "metadata": {},
     "output_type": "execute_result"
    }
   ],
   "source": [
    "dt_scaled_5 = tree.DecisionTreeRegressor(random_state = random_state)\n",
    "dt_scaled_5.fit(x_train_scaled5, y_train)"
   ]
  },
  {
   "cell_type": "code",
   "execution_count": 229,
   "id": "54a89e96",
   "metadata": {},
   "outputs": [
    {
     "name": "stdout",
     "output_type": "stream",
     "text": [
      "RMSE: 6826.600432\n",
      "R^2: 0.810472\n",
      "MAPE: 0.113625\n"
     ]
    }
   ],
   "source": [
    "y_pred_dt_scaled_5 = dt_scaled_5.predict(x_val_scaled5)\n",
    "\n",
    "print(\"RMSE: %.6f\" % np.sqrt(metrics.mean_squared_error(y_val, y_pred_dt_scaled_5)))\n",
    "print(\"R^2: %.6f\" % metrics.r2_score(y_val, y_pred_dt_scaled_5))\n",
    "print(\"MAPE: %.6f\" % mape(y_val, y_pred_dt_scaled_5))"
   ]
  },
  {
   "cell_type": "code",
   "execution_count": 230,
   "id": "0a425d9a",
   "metadata": {},
   "outputs": [
    {
     "name": "stdout",
     "output_type": "stream",
     "text": [
      "Mean Error, x = -132.624709  y = -132.624709\n",
      "Mean Var Error, x = 18730648.332729  y = 18730648.332729\n"
     ]
    },
    {
     "data": {
      "image/png": "[encoded data removed]",
      "text/plain": [
       "<Figure size 432x288 with 1 Axes>"
      ]
     },
     "metadata": {},
     "output_type": "display_data"
    }
   ],
   "source": [
    "# Create Bias-Variance graph for dt_notscaled\n",
    "\n",
    "error = np.zeros((num_test, 2))\n",
    "var = np.zeros((num_test, 2))\n",
    "for i in range(num_test):\n",
    "    err = y_val[select_index[i]] - y_pred_dt_scaled_5[select_index[i]]\n",
    "    error[i,:] = np.mean(err, axis = 0)\n",
    "    var[i,:] = np.var(err, axis = 0)\n",
    "\n",
    "\n",
    "plt.subplot(1,1,1)\n",
    "plt.scatter(error[:,0], error[:,1], color = 'red')\n",
    "plt.scatter(np.mean(error[:,0]), np.mean(error[:,1]), marker = 'x', color = 'blue')\n",
    "plt.scatter(0.0, 0.0, marker = 'x', color = 'green')\n",
    "plt.xlim(standard_plot_size[0], standard_plot_size[1])\n",
    "plt.ylim(standard_plot_size[0], standard_plot_size[1])\n",
    "\n",
    "print(\"Mean Error, x = %.6f\" % np.mean(error[:,0]),\" y = %.6f\" % np.mean(error[:,1])  )\n",
    "print(\"Mean Var Error, x = %.6f\" % np.mean(var[:,0]),\" y = %.6f\" % np.mean(var[:,1])  )\n",
    "\n",
    "mean_error_dt_scaled_5 = np.mean(error[:,0])\n",
    "mean_var_error_dt_scaled_5 =np.mean(var[:,0])"
   ]
  },
  {
   "cell_type": "markdown",
   "id": "1bfde207",
   "metadata": {},
   "source": [
    "### Omit body_type variable"
   ]
  },
  {
   "cell_type": "code",
   "execution_count": 231,
   "id": "e22d829c",
   "metadata": {},
   "outputs": [
    {
     "name": "stdout",
     "output_type": "stream",
     "text": [
      "body_type_Coupe / body_type_Wagon\n"
     ]
    }
   ],
   "source": [
    "# check col indexes\n",
    "print(col_names5[0] , \"/\", col_names5[7])"
   ]
  },
  {
   "cell_type": "code",
   "execution_count": 232,
   "id": "3154d622",
   "metadata": {},
   "outputs": [
    {
     "name": "stdout",
     "output_type": "stream",
     "text": [
      "['body_type_Coupe', 'body_type_Hatchback', 'body_type_Minivan', 'body_type_Pickup Truck', 'body_type_SUV / Crossover', 'body_type_Sedan', 'body_type_Van', 'body_type_Wagon']\n"
     ]
    }
   ],
   "source": [
    "print(col_names5[0:7+1])"
   ]
  },
  {
   "cell_type": "code",
   "execution_count": 22,
   "id": "f1a620f8",
   "metadata": {},
   "outputs": [],
   "source": [
    "# omit columns\n",
    "col_names6 = copy.deepcopy(col_names5)\n",
    "start_idx, end_idx = 0,7\n",
    "x_test_scaled6 = omit_var(start_idx, end_idx, x_test_scaled5)\n",
    "x_train_scaled6 = omit_var(start_idx, end_idx, x_train_scaled5)\n",
    "x_val_scaled6 = omit_var(start_idx, end_idx, x_val_scaled5)\n",
    "\n",
    "remove = ['body_type_Coupe', 'body_type_Hatchback', 'body_type_Minivan', 'body_type_Pickup Truck', 'body_type_SUV / Crossover', 'body_type_Sedan', 'body_type_Van', 'body_type_Wagon']\n",
    "for i in remove:\n",
    "    col_names6.remove(i)\n",
    "omitted_cols += [(start_idx, end_idx)]"
   ]
  },
  {
   "cell_type": "code",
   "execution_count": 234,
   "id": "ffaffc4e",
   "metadata": {},
   "outputs": [
    {
     "data": {
      "text/plain": [
       "(952025, 124)"
      ]
     },
     "execution_count": 234,
     "metadata": {},
     "output_type": "execute_result"
    }
   ],
   "source": [
    "x_train_scaled6.shape"
   ]
  },
  {
   "cell_type": "markdown",
   "id": "057f2669",
   "metadata": {},
   "source": [
    "##### Run DT Regression"
   ]
  },
  {
   "cell_type": "code",
   "execution_count": 235,
   "id": "23eb32b2",
   "metadata": {},
   "outputs": [
    {
     "data": {
      "text/plain": [
       "DecisionTreeRegressor(random_state=2023)"
      ]
     },
     "execution_count": 235,
     "metadata": {},
     "output_type": "execute_result"
    }
   ],
   "source": [
    "dt_scaled_6 = tree.DecisionTreeRegressor(random_state = random_state)\n",
    "dt_scaled_6.fit(x_train_scaled6, y_train)"
   ]
  },
  {
   "cell_type": "code",
   "execution_count": 236,
   "id": "7fe11ec7",
   "metadata": {},
   "outputs": [
    {
     "name": "stdout",
     "output_type": "stream",
     "text": [
      "RMSE: 5709.588405\n",
      "R^2: 0.867421\n",
      "MAPE: 0.116036\n"
     ]
    }
   ],
   "source": [
    "y_pred_dt_scaled_6 = dt_scaled_6.predict(x_val_scaled6)\n",
    "\n",
    "print(\"RMSE: %.6f\" % np.sqrt(metrics.mean_squared_error(y_val, y_pred_dt_scaled_6)))\n",
    "print(\"R^2: %.6f\" % metrics.r2_score(y_val, y_pred_dt_scaled_6))\n",
    "print(\"MAPE: %.6f\" % mape(y_val, y_pred_dt_scaled_6))"
   ]
  },
  {
   "cell_type": "code",
   "execution_count": 237,
   "id": "fe56f160",
   "metadata": {},
   "outputs": [
    {
     "name": "stdout",
     "output_type": "stream",
     "text": [
      "Mean Error, x = -199.492542  y = -199.492542\n",
      "Mean Var Error, x = 18909347.452000  y = 18909347.452000\n"
     ]
    },
    {
     "data": {
      "image/png": "[encoded data removed]",
      "text/plain": [
       "<Figure size 432x288 with 1 Axes>"
      ]
     },
     "metadata": {},
     "output_type": "display_data"
    }
   ],
   "source": [
    "# Create Bias-Variance graph \n",
    "\n",
    "error = np.zeros((num_test, 2))\n",
    "var = np.zeros((num_test, 2))\n",
    "for i in range(num_test):\n",
    "    err = y_val[select_index[i]] - y_pred_dt_scaled_6[select_index[i]]\n",
    "    error[i,:] = np.mean(err, axis = 0)\n",
    "    var[i,:] = np.var(err, axis = 0)\n",
    "\n",
    "\n",
    "plt.subplot(1,1,1)\n",
    "plt.scatter(error[:,0], error[:,1], color = 'red')\n",
    "plt.scatter(np.mean(error[:,0]), np.mean(error[:,1]), marker = 'x', color = 'blue')\n",
    "plt.scatter(0.0, 0.0, marker = 'x', color = 'green')\n",
    "plt.xlim(standard_plot_size[0], standard_plot_size[1])\n",
    "plt.ylim(standard_plot_size[0], standard_plot_size[1])\n",
    "\n",
    "print(\"Mean Error, x = %.6f\" % np.mean(error[:,0]),\" y = %.6f\" % np.mean(error[:,1])  )\n",
    "print(\"Mean Var Error, x = %.6f\" % np.mean(var[:,0]),\" y = %.6f\" % np.mean(var[:,1])  )\n",
    "\n",
    "mean_error_dt_scaled_6 = np.mean(error[:,0])\n",
    "mean_var_error_dt_scaled_6 =np.mean(var[:,0])"
   ]
  },
  {
   "cell_type": "markdown",
   "id": "bf92ae1f",
   "metadata": {},
   "source": [
    "### Omit listing_colour variable"
   ]
  },
  {
   "cell_type": "code",
   "execution_count": 238,
   "id": "a250dfe5",
   "metadata": {},
   "outputs": [
    {
     "name": "stdout",
     "output_type": "stream",
     "text": [
      "listing_color_BLUE / listing_color_YELLOW\n"
     ]
    }
   ],
   "source": [
    "# check col indexes\n",
    "print(col_names6[1] , \"/\", col_names6[14])"
   ]
  },
  {
   "cell_type": "code",
   "execution_count": 239,
   "id": "70f6ffc0",
   "metadata": {},
   "outputs": [
    {
     "name": "stdout",
     "output_type": "stream",
     "text": [
      "['listing_color_BLUE', 'listing_color_BROWN', 'listing_color_GOLD', 'listing_color_GRAY', 'listing_color_GREEN', 'listing_color_ORANGE', 'listing_color_PINK', 'listing_color_PURPLE', 'listing_color_RED', 'listing_color_SILVER', 'listing_color_TEAL', 'listing_color_UNKNOWN', 'listing_color_WHITE', 'listing_color_YELLOW']\n"
     ]
    }
   ],
   "source": [
    "print(col_names6[1:14+1])"
   ]
  },
  {
   "cell_type": "code",
   "execution_count": 23,
   "id": "ae6cb9cf",
   "metadata": {},
   "outputs": [],
   "source": [
    "# omit columns\n",
    "col_names7 = copy.deepcopy(col_names6)\n",
    "start_idx, end_idx = 1,14\n",
    "x_test_scaled7 = omit_var(start_idx, end_idx, x_test_scaled6)\n",
    "x_train_scaled7 = omit_var(start_idx, end_idx, x_train_scaled6)\n",
    "x_val_scaled7 = omit_var(start_idx, end_idx, x_val_scaled6)\n",
    "\n",
    "remove =['listing_color_BLUE', 'listing_color_BROWN', 'listing_color_GOLD', 'listing_color_GRAY', 'listing_color_GREEN', 'listing_color_ORANGE', 'listing_color_PINK', 'listing_color_PURPLE', 'listing_color_RED', 'listing_color_SILVER', 'listing_color_TEAL', 'listing_color_UNKNOWN', 'listing_color_WHITE', 'listing_color_YELLOW']\n",
    "for i in remove:\n",
    "    col_names7.remove(i)\n",
    "omitted_cols += [(start_idx, end_idx)]"
   ]
  },
  {
   "cell_type": "code",
   "execution_count": 24,
   "id": "78fda95e",
   "metadata": {},
   "outputs": [
    {
     "data": {
      "text/plain": [
       "(952025, 110)"
      ]
     },
     "execution_count": 24,
     "metadata": {},
     "output_type": "execute_result"
    }
   ],
   "source": [
    "x_train_scaled7.shape"
   ]
  },
  {
   "cell_type": "code",
   "execution_count": 25,
   "id": "4fddf5e6",
   "metadata": {},
   "outputs": [
    {
     "data": {
      "text/plain": [
       "110"
      ]
     },
     "execution_count": 25,
     "metadata": {},
     "output_type": "execute_result"
    }
   ],
   "source": [
    "len(col_names7)"
   ]
  },
  {
   "cell_type": "markdown",
   "id": "0c3f8b40",
   "metadata": {},
   "source": [
    "##### Run DT Regression"
   ]
  },
  {
   "cell_type": "code",
   "execution_count": 24,
   "id": "2ab6488b",
   "metadata": {},
   "outputs": [
    {
     "data": {
      "text/plain": [
       "DecisionTreeRegressor(random_state=2023)"
      ]
     },
     "execution_count": 24,
     "metadata": {},
     "output_type": "execute_result"
    }
   ],
   "source": [
    "dt_scaled_7 = tree.DecisionTreeRegressor(random_state = random_state)\n",
    "dt_scaled_7.fit(x_train_scaled7, y_train)"
   ]
  },
  {
   "cell_type": "code",
   "execution_count": 27,
   "id": "9c22d250",
   "metadata": {},
   "outputs": [
    {
     "name": "stdout",
     "output_type": "stream",
     "text": [
      "RMSE: 5709.268383\n",
      "R^2: 0.867436\n",
      "MAPE: 0.115330\n"
     ]
    }
   ],
   "source": [
    "y_pred_dt_scaled_7 = dt_scaled_7.predict(x_val_scaled7)\n",
    "\n",
    "print(\"RMSE: %.6f\" % np.sqrt(metrics.mean_squared_error(y_val, y_pred_dt_scaled_7)))\n",
    "print(\"R^2: %.6f\" % metrics.r2_score(y_val, y_pred_dt_scaled_7))\n",
    "print(\"MAPE: %.6f\" % mape(y_val, y_pred_dt_scaled_7))"
   ]
  },
  {
   "cell_type": "code",
   "execution_count": 28,
   "id": "34fd3e0b",
   "metadata": {},
   "outputs": [
    {
     "name": "stdout",
     "output_type": "stream",
     "text": [
      "Mean Error, x = -150.468739  y = -150.468739\n",
      "Mean Var Error, x = 20881410.958403  y = 20881410.958403\n"
     ]
    },
    {
     "data": {
      "image/png": "[encoded data removed]",
      "text/plain": [
       "<Figure size 432x288 with 1 Axes>"
      ]
     },
     "metadata": {},
     "output_type": "display_data"
    }
   ],
   "source": [
    "# Create Bias-Variance graph \n",
    "\n",
    "error = np.zeros((num_test, 2))\n",
    "var = np.zeros((num_test, 2))\n",
    "for i in range(num_test):\n",
    "    err = y_val[select_index[i]] - y_pred_dt_scaled_7[select_index[i]]\n",
    "    error[i,:] = np.mean(err, axis = 0)\n",
    "    var[i,:] = np.var(err, axis = 0)\n",
    "\n",
    "\n",
    "plt.subplot(1,1,1)\n",
    "plt.scatter(error[:,0], error[:,1], color = 'red')\n",
    "plt.scatter(np.mean(error[:,0]), np.mean(error[:,1]), marker = 'x', color = 'blue')\n",
    "plt.scatter(0.0, 0.0, marker = 'x', color = 'green')\n",
    "plt.xlim(standard_plot_size[0], standard_plot_size[1])\n",
    "plt.ylim(standard_plot_size[0], standard_plot_size[1])\n",
    "\n",
    "print(\"Mean Error, x = %.6f\" % np.mean(error[:,0]),\" y = %.6f\" % np.mean(error[:,1])  )\n",
    "print(\"Mean Var Error, x = %.6f\" % np.mean(var[:,0]),\" y = %.6f\" % np.mean(var[:,1])  )\n",
    "\n",
    "mean_error_dt_scaled_7 = np.mean(error[:,0])\n",
    "mean_var_error_dt_scaled_7 =np.mean(var[:,0])"
   ]
  },
  {
   "cell_type": "markdown",
   "id": "21065c1f",
   "metadata": {},
   "source": [
    "### Omit state variable"
   ]
  },
  {
   "cell_type": "code",
   "execution_count": 246,
   "id": "aec7c59c",
   "metadata": {},
   "outputs": [
    {
     "name": "stdout",
     "output_type": "stream",
     "text": [
      "state_Alaska / state_Wyoming\n"
     ]
    }
   ],
   "source": [
    "# check col indexes\n",
    "print(col_names7[56] , \"/\", col_names7[105])"
   ]
  },
  {
   "cell_type": "code",
   "execution_count": 247,
   "id": "41928ca4",
   "metadata": {},
   "outputs": [],
   "source": [
    "# omit columns\n",
    "col_names8 = copy.deepcopy(col_names7)\n",
    "start_idx, end_idx = 56,105\n",
    "x_test_scaled8 = omit_var(start_idx, end_idx, x_test_scaled7)\n",
    "x_train_scaled8 = omit_var(start_idx, end_idx, x_train_scaled7)\n",
    "x_val_scaled8 = omit_var(start_idx, end_idx, x_val_scaled7)\n",
    "\n",
    "del col_names8[start_idx : end_idx+1]"
   ]
  },
  {
   "cell_type": "code",
   "execution_count": 248,
   "id": "ae09d77a",
   "metadata": {},
   "outputs": [
    {
     "data": {
      "text/plain": [
       "(317342, 110)"
      ]
     },
     "execution_count": 248,
     "metadata": {},
     "output_type": "execute_result"
    }
   ],
   "source": [
    "x_val_scaled7.shape"
   ]
  },
  {
   "cell_type": "markdown",
   "id": "0ee7573c",
   "metadata": {},
   "source": [
    "##### Run DT Regression"
   ]
  },
  {
   "cell_type": "code",
   "execution_count": 249,
   "id": "37cc32da",
   "metadata": {},
   "outputs": [
    {
     "data": {
      "text/plain": [
       "DecisionTreeRegressor(random_state=2023)"
      ]
     },
     "execution_count": 249,
     "metadata": {},
     "output_type": "execute_result"
    }
   ],
   "source": [
    "dt_scaled_8 = tree.DecisionTreeRegressor(random_state = random_state)\n",
    "dt_scaled_8.fit(x_train_scaled8, y_train)"
   ]
  },
  {
   "cell_type": "code",
   "execution_count": 250,
   "id": "e8535121",
   "metadata": {},
   "outputs": [
    {
     "name": "stdout",
     "output_type": "stream",
     "text": [
      "RMSE: 5889.716837\n",
      "R^2: 0.858924\n",
      "MAPE: 0.122303\n"
     ]
    }
   ],
   "source": [
    "y_pred_dt_scaled_8 = dt_scaled_8.predict(x_val_scaled8)\n",
    "\n",
    "print(\"RMSE: %.6f\" % np.sqrt(metrics.mean_squared_error(y_val, y_pred_dt_scaled_8)))\n",
    "print(\"R^2: %.6f\" % metrics.r2_score(y_val, y_pred_dt_scaled_8))\n",
    "print(\"MAPE: %.6f\" % mape(y_val, y_pred_dt_scaled_8))"
   ]
  },
  {
   "cell_type": "code",
   "execution_count": 251,
   "id": "8687cdee",
   "metadata": {},
   "outputs": [
    {
     "name": "stdout",
     "output_type": "stream",
     "text": [
      "Mean Error, x = -284.397413  y = -284.397413\n",
      "Mean Var Error, x = 23157218.678678  y = 23157218.678678\n"
     ]
    },
    {
     "data": {
      "image/png": "[encoded data removed]",
      "text/plain": [
       "<Figure size 432x288 with 1 Axes>"
      ]
     },
     "metadata": {},
     "output_type": "display_data"
    }
   ],
   "source": [
    "# Create Bias-Variance graph \n",
    "\n",
    "error = np.zeros((num_test, 2))\n",
    "var = np.zeros((num_test, 2))\n",
    "for i in range(num_test):\n",
    "    err = y_val[select_index[i]] - y_pred_dt_scaled_8[select_index[i]]\n",
    "    error[i,:] = np.mean(err, axis = 0)\n",
    "    var[i,:] = np.var(err, axis = 0)\n",
    "\n",
    "\n",
    "plt.subplot(1,1,1)\n",
    "plt.scatter(error[:,0], error[:,1], color = 'red')\n",
    "plt.scatter(np.mean(error[:,0]), np.mean(error[:,1]), marker = 'x', color = 'blue')\n",
    "plt.scatter(0.0, 0.0, marker = 'x', color = 'green')\n",
    "plt.xlim(standard_plot_size[0], standard_plot_size[1])\n",
    "plt.ylim(standard_plot_size[0], standard_plot_size[1])\n",
    "\n",
    "print(\"Mean Error, x = %.6f\" % np.mean(error[:,0]),\" y = %.6f\" % np.mean(error[:,1])  )\n",
    "print(\"Mean Var Error, x = %.6f\" % np.mean(var[:,0]),\" y = %.6f\" % np.mean(var[:,1])  )\n",
    "\n",
    "mean_error_dt_scaled_8 = np.mean(error[:,0])\n",
    "mean_var_error_dt_scaled_8 =np.mean(var[:,0])"
   ]
  },
  {
   "cell_type": "markdown",
   "id": "7beb3160",
   "metadata": {},
   "source": [
    "NOTE: Removal of state leads to increase in MAPE although RMSE drops."
   ]
  },
  {
   "cell_type": "markdown",
   "id": "79bc18e7",
   "metadata": {},
   "source": [
    "## Plot RMSE, MPSE, R^2, Mean Error & Mean Var Error (from Bias-Variance graphs) changes as variables are dropped"
   ]
  },
  {
   "cell_type": "code",
   "execution_count": 252,
   "id": "deef6ffb",
   "metadata": {},
   "outputs": [],
   "source": [
    "models = ['dt_scaled','dt_scaled_2','dt_scaled_3','dt_scaled_4', 'dt_scaled_5', 'dt_scaled_6', 'dt_scaled_7','dt_scaled_8']\n",
    "\n",
    "RMSE = [np.sqrt(metrics.mean_squared_error(y_val, y_pred_dt_scaled)), np.sqrt(metrics.mean_squared_error(y_val, y_pred_dt_scaled_2)), np.sqrt(metrics.mean_squared_error(y_val, y_pred_dt_scaled_3)),\n",
    "        np.sqrt(metrics.mean_squared_error(y_val, y_pred_dt_scaled_4)), np.sqrt(metrics.mean_squared_error(y_val, y_pred_dt_scaled_5)), np.sqrt(metrics.mean_squared_error(y_val, y_pred_dt_scaled_6)), \n",
    "        np.sqrt(metrics.mean_squared_error(y_val, y_pred_dt_scaled_7)),np.sqrt(metrics.mean_squared_error(y_val, y_pred_dt_scaled_8))]\n",
    "\n",
    "R2 = [metrics.r2_score(y_val, y_pred_dt_scaled), metrics.r2_score(y_val, y_pred_dt_scaled_2), metrics.r2_score(y_val, y_pred_dt_scaled_3), metrics.r2_score(y_val, y_pred_dt_scaled_4),\n",
    "      metrics.r2_score(y_val, y_pred_dt_scaled_5), metrics.r2_score(y_val, y_pred_dt_scaled_6),  metrics.r2_score(y_val, y_pred_dt_scaled_7), metrics.r2_score(y_val, y_pred_dt_scaled_8)]\n",
    "\n",
    "MAPE = [mape(y_val, y_pred_dt_scaled), mape(y_val, y_pred_dt_scaled_2), mape(y_val, y_pred_dt_scaled_3), mape(y_val, y_pred_dt_scaled_4), mape(y_val, y_pred_dt_scaled_5),\n",
    "        mape(y_val, y_pred_dt_scaled_6),mape(y_val, y_pred_dt_scaled_7),mape(y_val, y_pred_dt_scaled_8)]\n",
    "\n",
    "mean_error_BV = [abs(mean_error_dt_scaled), abs(mean_error_dt_scaled_2), abs(mean_error_dt_scaled_3), abs(mean_error_dt_scaled_4), abs(mean_error_dt_scaled_5),\n",
    "                 abs(mean_error_dt_scaled_6),abs(mean_error_dt_scaled_7),abs(mean_error_dt_scaled_8)]\n",
    "\n",
    "mean_var_error_BV = [mean_var_error_dt_scaled, mean_var_error_dt_scaled_2, mean_var_error_dt_scaled_3, mean_var_error_dt_scaled_4, mean_var_error_dt_scaled_5, mean_var_error_dt_scaled_6,\n",
    "                     mean_var_error_dt_scaled_7,mean_var_error_dt_scaled_8]\n"
   ]
  },
  {
   "cell_type": "code",
   "execution_count": 253,
   "id": "2884c208",
   "metadata": {},
   "outputs": [
    {
     "data": {
      "image/png": "[encoded data removed]",
      "text/plain": [
       "<Figure size 864x576 with 1 Axes>"
      ]
     },
     "metadata": {},
     "output_type": "display_data"
    }
   ],
   "source": [
    "plt.figure(figsize = (12, 8))\n",
    "plt.plot(models, RMSE, 'bo-', label = 'RMSE')\n",
    "plt.xlabel('Models')\n",
    "plt.ylabel('Metric Values')\n",
    "plt.title('RMSE change over models')\n",
    "plt.legend()\n",
    "plt.show()"
   ]
  },
  {
   "cell_type": "code",
   "execution_count": 254,
   "id": "740413bc",
   "metadata": {},
   "outputs": [
    {
     "data": {
      "image/png": "[encoded data removed]",
      "text/plain": [
       "<Figure size 864x576 with 1 Axes>"
      ]
     },
     "metadata": {},
     "output_type": "display_data"
    }
   ],
   "source": [
    "plt.figure(figsize = (12, 8))\n",
    "plt.plot(models, R2, 'ro-', label = 'R^2')\n",
    "plt.plot(models, MAPE, 'go-', label = 'MAPE')\n",
    "plt.xlabel('Models')\n",
    "plt.ylabel('Metric Values')\n",
    "plt.title('R^2 and MAPE changes over models')\n",
    "plt.legend()\n",
    "plt.show()"
   ]
  },
  {
   "cell_type": "code",
   "execution_count": 255,
   "id": "a9d59235",
   "metadata": {},
   "outputs": [
    {
     "data": {
      "image/png": "[encoded data removed]",
      "text/plain": [
       "<Figure size 864x576 with 1 Axes>"
      ]
     },
     "metadata": {},
     "output_type": "display_data"
    }
   ],
   "source": [
    "plt.figure(figsize = (12, 8))\n",
    "plt.plot(models, mean_error_BV, 'co-', label = 'Abs Mean Error')\n",
    "plt.xlabel('Models')\n",
    "plt.ylabel('Metric Values')\n",
    "plt.title('Abs Mean Error (from Bias-Variance) change over models')\n",
    "plt.legend()\n",
    "plt.show()"
   ]
  },
  {
   "cell_type": "code",
   "execution_count": 256,
   "id": "d06ea40f",
   "metadata": {},
   "outputs": [
    {
     "data": {
      "image/png": "[encoded data removed]",
      "text/plain": [
       "<Figure size 864x576 with 1 Axes>"
      ]
     },
     "metadata": {},
     "output_type": "display_data"
    }
   ],
   "source": [
    "plt.figure(figsize = (12, 8))\n",
    "plt.plot(models, mean_var_error_BV, 'mo-', label = 'Mean Var Error')\n",
    "plt.xlabel('Models')\n",
    "plt.ylabel('Metric Values')\n",
    "plt.title('Mean Var Error (from Bias-Variance) change over models')\n",
    "plt.legend()\n",
    "plt.show()"
   ]
  },
  {
   "cell_type": "markdown",
   "id": "f1cae7a4",
   "metadata": {},
   "source": [
    "## Run dt_scaled_7 on Test data"
   ]
  },
  {
   "cell_type": "code",
   "execution_count": 26,
   "id": "bcb3475b",
   "metadata": {},
   "outputs": [
    {
     "name": "stdout",
     "output_type": "stream",
     "text": [
      "RMSE: 5255.187411\n",
      "R^2: 0.884307\n",
      "MAPE: 0.120290\n"
     ]
    }
   ],
   "source": [
    "y_pred_dt_scaled_7_TEST = dt_scaled_7.predict(x_test_scaled7)\n",
    "\n",
    "print(\"RMSE: %.6f\" % np.sqrt(metrics.mean_squared_error(y_test, y_pred_dt_scaled_7_TEST)))\n",
    "print(\"R^2: %.6f\" % metrics.r2_score(y_test, y_pred_dt_scaled_7_TEST))\n",
    "print(\"MAPE: %.6f\" % mape(y_test, y_pred_dt_scaled_7_TEST))"
   ]
  },
  {
   "cell_type": "code",
   "execution_count": 30,
   "id": "250e4743",
   "metadata": {},
   "outputs": [
    {
     "name": "stdout",
     "output_type": "stream",
     "text": [
      "Mean Error, x = -43.081869  y = -43.081869\n",
      "Mean Var Error, x = 24390248.592888  y = 24390248.592888\n"
     ]
    },
    {
     "data": {
      "image/png": "[encoded data removed]",
      "text/plain": [
       "<Figure size 432x288 with 1 Axes>"
      ]
     },
     "metadata": {},
     "output_type": "display_data"
    }
   ],
   "source": [
    "# Create Bias-Variance graph for dt_notscaled\n",
    "\n",
    "error = np.zeros((num_test, 2))\n",
    "var = np.zeros((num_test, 2))\n",
    "for i in range(num_test):\n",
    "    err = y_test[select_index[i]] - y_pred_dt_scaled_7_TEST[select_index[i]]\n",
    "    error[i,:] = np.mean(err, axis = 0)\n",
    "    var[i,:] = np.var(err, axis = 0)\n",
    "\n",
    "\n",
    "plt.subplot(1,1,1)\n",
    "plt.scatter(error[:,0], error[:,1], color = 'red')\n",
    "plt.scatter(np.mean(error[:,0]), np.mean(error[:,1]), marker = 'x', color = 'blue')\n",
    "plt.scatter(0.0, 0.0, marker = 'x', color = 'green')\n",
    "plt.xlim(standard_plot_size[0], standard_plot_size[1])\n",
    "plt.ylim(standard_plot_size[0], standard_plot_size[1])\n",
    "\n",
    "print(\"Mean Error, x = %.6f\" % np.mean(error[:,0]),\" y = %.6f\" % np.mean(error[:,1])  )\n",
    "print(\"Mean Var Error, x = %.6f\" % np.mean(var[:,0]),\" y = %.6f\" % np.mean(var[:,1])  )\n",
    "\n",
    "mean_error_dt_scaledstd_7_TEST = np.mean(error[:,0])\n",
    "mean_var_error_dt_scaledstd_7_TEST =np.mean(var[:,0])"
   ]
  },
  {
   "cell_type": "code",
   "execution_count": 31,
   "id": "94b4a390",
   "metadata": {},
   "outputs": [
    {
     "name": "stdout",
     "output_type": "stream",
     "text": [
      "['is_new_True', 'make_name_Alfa Romeo', 'make_name_Aston Martin', 'make_name_Audi', 'make_name_BMW', 'make_name_Bentley', 'make_name_Buick', 'make_name_Cadillac', 'make_name_Chevrolet', 'make_name_Chrysler', 'make_name_Dodge', 'make_name_FIAT', 'make_name_Ford', 'make_name_GMC', 'make_name_Genesis', 'make_name_Honda', 'make_name_Hummer', 'make_name_Hyundai', 'make_name_INFINITI', 'make_name_Isuzu', 'make_name_Jaguar', 'make_name_Jeep', 'make_name_Kia', 'make_name_Land Rover', 'make_name_Lexus', 'make_name_Lincoln', 'make_name_MINI', 'make_name_Maserati', 'make_name_Mazda', 'make_name_Mercedes-Benz', 'make_name_Mercury', 'make_name_Mitsubishi', 'make_name_Nissan', 'make_name_Oldsmobile', 'make_name_Plymouth', 'make_name_Pontiac', 'make_name_Porsche', 'make_name_RAM', 'make_name_Rolls-Royce', 'make_name_Saab', 'make_name_Saturn', 'make_name_Scion', 'make_name_Subaru', 'make_name_Suzuki', 'make_name_Toyota', 'make_name_Volkswagen', 'make_name_Volvo', 'maximum_seating_4 seats', 'maximum_seating_5 seats', 'maximum_seating_6 seats', 'maximum_seating_7 seats', 'maximum_seating_8 seats', 'wheel_system_4X2', 'wheel_system_AWD', 'wheel_system_FWD', 'wheel_system_RWD', 'state_Alaska', 'state_Arizona', 'state_Arkansas', 'state_California', 'state_Colorado', 'state_Connecticut', 'state_Delaware', 'state_Florida', 'state_Georgia', 'state_Hawaii', 'state_Idaho', 'state_Illinois', 'state_Indiana', 'state_Iowa', 'state_Kansas', 'state_Kentucky', 'state_Louisiana', 'state_Maine', 'state_Maryland', 'state_Massachusetts', 'state_Michigan', 'state_Minnesota', 'state_Mississippi', 'state_Missouri', 'state_Montana', 'state_Nebraska', 'state_Nevada', 'state_New Hampshire', 'state_New Jersey', 'state_New Mexico', 'state_New York', 'state_North Carolina', 'state_North Dakota', 'state_Ohio', 'state_Oklahoma', 'state_Oregon', 'state_Pennsylvania', 'state_Puerto Rico', 'state_Rhode Island', 'state_South Carolina', 'state_South Dakota', 'state_Tennessee', 'state_Texas', 'state_Utah', 'state_Vermont', 'state_Virginia', 'state_Washington', 'state_West Virginia', 'state_Wisconsin', 'state_Wyoming', 'daysonmarket', 'horsepower', 'mileage', 'seller_rating']\n"
     ]
    }
   ],
   "source": [
    "print(col_names7)"
   ]
  },
  {
   "cell_type": "code",
   "execution_count": 32,
   "id": "1804e132",
   "metadata": {},
   "outputs": [
    {
     "name": "stdout",
     "output_type": "stream",
     "text": [
      "Final Variables: \n",
      "is_new_True,make_name (encoded), maximum_seating (4,5,6,7,8) (encoded), wheel_system (encooded),\n",
      "state (encoded), daysonmarket, horsepower, mileage, seller_rating\n"
     ]
    }
   ],
   "source": [
    "print(\"Final Variables: \")\n",
    "print(\"is_new_True,make_name (encoded), maximum_seating (4,5,6,7,8) (encoded), wheel_system (encooded),\")\n",
    "print(\"state (encoded), daysonmarket, horsepower, mileage, seller_rating\")\n"
   ]
  },
  {
   "cell_type": "markdown",
   "id": "6121b6ce",
   "metadata": {},
   "source": [
    "### Run K-Fold"
   ]
  },
  {
   "cell_type": "code",
   "execution_count": 39,
   "id": "27d6c1c9",
   "metadata": {},
   "outputs": [
    {
     "name": "stdout",
     "output_type": "stream",
     "text": [
      "[(88, 90), (12, 16), (82, 82), (73, 76), (8, 11), (0, 7), (1, 14)]\n"
     ]
    }
   ],
   "source": [
    "# Copy model so code uses 1 object only \n",
    "kf_model = copy.deepcopy(dt_scaled_7)\n",
    "\n",
    "# Prep data\n",
    "print(omitted_cols)\n"
   ]
  },
  {
   "cell_type": "code",
   "execution_count": 40,
   "id": "0d006b7f",
   "metadata": {},
   "outputs": [],
   "source": [
    "#Prep data\n",
    "kf  = KFold(n_splits = 10, shuffle = True, random_state = random_state)\n",
    "\n",
    "x_kf = copy.deepcopy(x)\n",
    "\n",
    "for indexes in omitted_cols:\n",
    "    start_idx, end_idx = indexes[0], indexes[1]\n",
    "    x_kf = omit_var(start_idx, end_idx, x_kf)\n",
    "\n",
    "x_kf = scaling(x_kf,y)"
   ]
  },
  {
   "cell_type": "code",
   "execution_count": 263,
   "id": "35661453",
   "metadata": {},
   "outputs": [
    {
     "name": "stdout",
     "output_type": "stream",
     "text": [
      "RUN K-FOLD, splits = 10, shuffle = True\n"
     ]
    }
   ],
   "source": [
    "#Run k-fold\n",
    "print('RUN K-FOLD, splits = 10, shuffle = True')\n",
    "\n",
    "final_scores_cross_val_R2 = cross_val_score(kf_model, x_kf, y, scoring='r2', cv=kf, n_jobs=1)\n"
   ]
  },
  {
   "cell_type": "code",
   "execution_count": 264,
   "id": "5e5b91e5",
   "metadata": {},
   "outputs": [
    {
     "name": "stdout",
     "output_type": "stream",
     "text": [
      "R^2:\n",
      "0.886712\n",
      "0.906005\n",
      "0.720425\n",
      "0.889065\n",
      "0.912900\n",
      "0.811977\n",
      "0.861047\n",
      "0.907720\n",
      "0.789380\n",
      "0.769850\n"
     ]
    }
   ],
   "source": [
    "print('R^2:')\n",
    "for i in final_scores_cross_val_R2:\n",
    "    print('%5f' % i)"
   ]
  },
  {
   "cell_type": "code",
   "execution_count": 265,
   "id": "4c4a4c4c",
   "metadata": {},
   "outputs": [],
   "source": [
    "def mape_kfold(estimator, x, y):\n",
    "    predicted = estimator.predict(x)\n",
    "    return sum(abs((y - predicted) / y)) / len(y)"
   ]
  },
  {
   "cell_type": "code",
   "execution_count": 266,
   "id": "1ec374dc",
   "metadata": {},
   "outputs": [
    {
     "name": "stdout",
     "output_type": "stream",
     "text": [
      "RUN K-FOLD, splits = 10, shuffle = True\n"
     ]
    }
   ],
   "source": [
    "#Run k-fold\n",
    "print('RUN K-FOLD, splits = 10, shuffle = True')\n",
    "\n",
    "final_scores_cross_val_MAPE = cross_val_score(kf_model, x_kf, y, scoring=mape_kfold, cv=kf, n_jobs=1)\n"
   ]
  },
  {
   "cell_type": "code",
   "execution_count": 267,
   "id": "ee534aaf",
   "metadata": {},
   "outputs": [
    {
     "name": "stdout",
     "output_type": "stream",
     "text": [
      "MAPE:\n",
      "0.099716\n",
      "0.099765\n",
      "0.100393\n",
      "0.099724\n",
      "0.100183\n",
      "0.099778\n",
      "0.100448\n",
      "0.100382\n",
      "0.100623\n",
      "0.100437\n"
     ]
    }
   ],
   "source": [
    "print('MAPE:')\n",
    "for i in final_scores_cross_val_MAPE:\n",
    "    print('%5f' % i)"
   ]
  },
  {
   "cell_type": "markdown",
   "id": "384e7d7b",
   "metadata": {},
   "source": [
    "## Save Decision Tree model to a file for future use"
   ]
  },
  {
   "cell_type": "code",
   "execution_count": 37,
   "id": "e711745f",
   "metadata": {},
   "outputs": [],
   "source": [
    "import joblib"
   ]
  },
  {
   "cell_type": "markdown",
   "id": "3a3ed782",
   "metadata": {},
   "source": [
    "#### Save file"
   ]
  },
  {
   "cell_type": "code",
   "execution_count": 38,
   "id": "a88f0c9b",
   "metadata": {},
   "outputs": [
    {
     "data": {
      "text/plain": [
       "['AML_final_DT.joblib']"
      ]
     },
     "execution_count": 38,
     "metadata": {},
     "output_type": "execute_result"
    }
   ],
   "source": [
    "# Save the decision tree model \n",
    "joblib.dump(dt_scaled_7, 'AML_final_DT.joblib')"
   ]
  },
  {
   "cell_type": "code",
   "execution_count": 40,
   "id": "84269d82",
   "metadata": {},
   "outputs": [],
   "source": [
    "# Save test data to run testing on model imported\n",
    "np.savetxt('AML_scaledData_forDT_xTest.csv', x_test_scaled7, delimiter=',')\n",
    "np.savetxt('AML_Data_forDT_yTest.csv', y_test, delimiter=',')"
   ]
  },
  {
   "cell_type": "markdown",
   "id": "1e79fd16",
   "metadata": {},
   "source": [
    "#### Save DT as image"
   ]
  },
  {
   "cell_type": "code",
   "execution_count": 46,
   "id": "44bf7c21",
   "metadata": {},
   "outputs": [],
   "source": [
    "from sklearn.tree import export_graphviz\n",
    "\n",
    "export_graphviz(dt_scaled_7, out_file='AML_final_DT_img.dot', \n",
    "                feature_names=col_names7, \n",
    "                class_names='Price', \n",
    "                filled=True, rounded=True, special_characters=True)"
   ]
  },
  {
   "cell_type": "code",
   "execution_count": 48,
   "id": "77963b34",
   "metadata": {},
   "outputs": [],
   "source": [
    "import pydot\n",
    "\n",
    "(graph,) = pydot.graph_from_dot_file('AML_final_DT_img.dot')\n",
    "graph.write_png('AML_final_DT_img.png')"
   ]
  },
  {
   "cell_type": "markdown",
   "id": "63e4b9ac",
   "metadata": {},
   "source": [
    "#### Import file and test"
   ]
  },
  {
   "cell_type": "code",
   "execution_count": null,
   "id": "3a02d1d2",
   "metadata": {},
   "outputs": [],
   "source": [
    "import joblib"
   ]
  },
  {
   "cell_type": "code",
   "execution_count": 43,
   "id": "db721ea8",
   "metadata": {},
   "outputs": [],
   "source": [
    "loaded_DT = joblib.load('AML_final_DT.joblib')\n",
    "loaded_scaled_xTest = np.loadtxt('AML_scaledData_forDT_xTest.csv', delimiter=',')\n",
    "loaded_yTest = np.loadtxt('AML_Data_forDT_yTest.csv', delimiter=',')"
   ]
  },
  {
   "cell_type": "code",
   "execution_count": 44,
   "id": "25b79522",
   "metadata": {},
   "outputs": [
    {
     "name": "stdout",
     "output_type": "stream",
     "text": [
      "RMSE: 5255.187411\n",
      "R^2: 0.884307\n",
      "MAPE: 0.120290\n"
     ]
    }
   ],
   "source": [
    "predicted_LoadedDT = loaded_DT.predict(loaded_scaled_xTest)\n",
    "\n",
    "print(\"RMSE: %.6f\" % np.sqrt(metrics.mean_squared_error(loaded_yTest, predicted_LoadedDT)))\n",
    "print(\"R^2: %.6f\" % metrics.r2_score(loaded_yTest, predicted_LoadedDT))\n",
    "print(\"MAPE: %.6f\" % mape(loaded_yTest, predicted_LoadedDT))"
   ]
  },
  {
   "cell_type": "markdown",
   "id": "80f03593",
   "metadata": {},
   "source": [
    "# Run MLR to valdiate features omitted"
   ]
  },
  {
   "cell_type": "code",
   "execution_count": 33,
   "id": "3fda6e55",
   "metadata": {},
   "outputs": [],
   "source": [
    "import statsmodels.api as sm\n",
    "def get_stats(x,y):\n",
    "    results = sm.OLS(y, x).fit()\n",
    "    print(results.summary())"
   ]
  },
  {
   "cell_type": "code",
   "execution_count": 34,
   "id": "e94b2204",
   "metadata": {},
   "outputs": [
    {
     "name": "stdout",
     "output_type": "stream",
     "text": [
      "Run MLR on data with all columns\n",
      "\n",
      "                                 OLS Regression Results                                \n",
      "=======================================================================================\n",
      "Dep. Variable:                      y   R-squared (uncentered):                   0.159\n",
      "Model:                            OLS   Adj. R-squared (uncentered):              0.158\n",
      "Method:                 Least Squares   F-statistic:                              1212.\n",
      "Date:                Mon, 20 Mar 2023   Prob (F-statistic):                        0.00\n",
      "Time:                        15:43:10   Log-Likelihood:                     -1.1226e+07\n",
      "No. Observations:              952025   AIC:                                  2.245e+07\n",
      "Df Residuals:                  951877   BIC:                                  2.245e+07\n",
      "Df Model:                         148                                                  \n",
      "Covariance Type:            nonrobust                                                  \n",
      "==============================================================================\n",
      "                 coef    std err          t      P>|t|      [0.025      0.975]\n",
      "------------------------------------------------------------------------------\n",
      "x1          -549.1425     79.056     -6.946      0.000    -704.090    -394.195\n",
      "x2          -399.7089     87.545     -4.566      0.000    -571.294    -228.124\n",
      "x3          -914.5139    114.462     -7.990      0.000   -1138.855    -690.173\n",
      "x4          -491.3440    220.367     -2.230      0.026    -923.255     -59.433\n",
      "x5         -1164.7477    301.662     -3.861      0.000   -1755.996    -573.500\n",
      "x6         -1495.3738    255.930     -5.843      0.000   -1996.988    -993.759\n",
      "x7           -80.7098     56.981     -1.416      0.157    -192.390      30.971\n",
      "x8            -3.5010     69.293     -0.051      0.960    -139.313     132.311\n",
      "x9         -1990.7087   1439.637     -1.383      0.167   -4812.350     830.933\n",
      "x10          -12.9635     33.032     -0.392      0.695     -77.706      51.779\n",
      "x11        -3851.0583   1430.608     -2.692      0.007   -6655.003   -1047.114\n",
      "x12         -237.9155     60.517     -3.931      0.000    -356.526    -119.305\n",
      "x13          -41.5664     32.837     -1.266      0.206    -105.927      22.794\n",
      "x14         -782.9960     67.540    -11.593      0.000    -915.372    -650.620\n",
      "x15        -4296.7619    158.399    -27.126      0.000   -4607.218   -3986.306\n",
      "x16        -4450.5641    169.251    -26.296      0.000   -4782.290   -4118.838\n",
      "x17         -344.7706     36.728     -9.387      0.000    -416.756    -272.785\n",
      "x18         3187.9244     46.600     68.410      0.000    3096.589    3279.260\n",
      "x19          -58.5668     37.595     -1.558      0.119    -132.253      15.119\n",
      "x20           62.1060     33.181      1.872      0.061      -2.928     127.140\n",
      "x21          -48.3547     32.960     -1.467      0.142    -112.956      16.246\n",
      "x22          -96.2003     39.459     -2.438      0.015    -173.538     -18.863\n",
      "x23           82.6368     33.440      2.471      0.013      17.096     148.177\n",
      "x24           -3.6218     33.156     -0.109      0.913     -68.606      61.362\n",
      "x25           12.5719     32.788      0.383      0.701     -51.691      76.835\n",
      "x26            9.1541     32.818      0.279      0.780     -55.167      73.476\n",
      "x27          -25.7903     37.674     -0.685      0.494     -99.630      48.049\n",
      "x28         -211.0296     39.396     -5.357      0.000    -288.245    -133.815\n",
      "x29           20.9910     33.087      0.634      0.526     -43.857      85.839\n",
      "x30           12.6182     40.786      0.309      0.757     -67.320      92.556\n",
      "x31           21.7032     41.623      0.521      0.602     -59.877     103.284\n",
      "x32           -4.3206     32.926     -0.131      0.896     -68.854      60.213\n",
      "x33          -24.7214     35.114     -0.704      0.481     -93.544      44.101\n",
      "x34          133.3340     32.818      4.063      0.000      69.011     197.657\n",
      "x35          600.0857     44.139     13.595      0.000     513.575     686.597\n",
      "x36          834.6155     54.897     15.203      0.000     727.019     942.212\n",
      "x37         1061.7293     51.465     20.630      0.000     960.860    1162.598\n",
      "x38         -838.6869     55.107    -15.219      0.000    -946.694    -730.679\n",
      "x39          186.3247     54.788      3.401      0.001      78.942     293.707\n",
      "x40        -2329.9559    105.347    -22.117      0.000   -2536.432   -2123.480\n",
      "x41         -835.1047     51.249    -16.295      0.000    -935.551    -734.658\n",
      "x42        -1881.5067     68.337    -27.533      0.000   -2015.444   -1747.569\n",
      "x43         -149.6709     34.029     -4.398      0.000    -216.368     -82.974\n",
      "x44        -2543.3700    106.864    -23.800      0.000   -2752.820   -2333.920\n",
      "x45        -1341.9946     63.753    -21.050      0.000   -1466.948   -1217.041\n",
      "x46          -48.6485     33.849     -1.437      0.151    -114.991      17.694\n",
      "x47        -1327.9263     97.887    -13.566      0.000   -1519.782   -1136.071\n",
      "x48          -53.5515     32.816     -1.632      0.103    -117.870      10.767\n",
      "x49        -1072.4815     72.296    -14.835      0.000   -1214.179    -930.784\n",
      "x50         -196.6542     45.126     -4.358      0.000    -285.100    -108.208\n",
      "x51           -2.2998     32.778     -0.070      0.944     -66.544      61.945\n",
      "x52          308.6198     36.855      8.374      0.000     236.386     380.854\n",
      "x53        -2084.7188     88.825    -23.470      0.000   -2258.813   -1910.624\n",
      "x54        -1335.9036     66.495    -20.090      0.000   -1466.232   -1205.575\n",
      "x55          863.0825     39.921     21.620      0.000     784.838     941.327\n",
      "x56          513.6480     46.897     10.953      0.000     421.732     605.564\n",
      "x57          -87.2955     47.759     -1.828      0.068    -180.901       6.310\n",
      "x58           40.0991     36.678      1.093      0.274     -31.789     111.987\n",
      "x59          109.1106     33.273      3.279      0.001      43.897     174.324\n",
      "x60         -690.6566     55.446    -12.456      0.000    -799.330    -581.983\n",
      "x61         1620.9144     54.217     29.897      0.000    1514.652    1727.177\n",
      "x62          -36.8296     33.120     -1.112      0.266    -101.743      28.084\n",
      "x63         -403.1372     40.960     -9.842      0.000    -483.417    -322.858\n",
      "x64        -1867.4980     94.837    -19.692      0.000   -2053.375   -1681.621\n",
      "x65           -5.7810     32.841     -0.176      0.860     -70.147      58.586\n",
      "const      -3.725e-13   3.94e-14     -9.449      0.000    -4.5e-13   -2.95e-13\n",
      "x66          -26.8839     33.146     -0.811      0.417     -91.850      38.082\n",
      "x67           60.5478     32.920      1.839      0.066      -3.974     125.070\n",
      "x68        -1567.6826     64.288    -24.385      0.000   -1693.684   -1441.681\n",
      "x69         1680.4734     33.000     50.924      0.000    1615.795    1745.152\n",
      "x70          -45.4339     32.813     -1.385      0.166    -109.747      18.879\n",
      "x71          -68.4706     33.072     -2.070      0.038    -133.291      -3.650\n",
      "x72           -9.2210     33.906     -0.272      0.786     -75.676      57.234\n",
      "x73        -1270.8137    484.868     -2.621      0.009   -2221.140    -320.488\n",
      "x74          -35.2460     32.846     -1.073      0.283     -99.623      29.131\n",
      "x75         -739.4565     75.665     -9.773      0.000    -887.758    -591.155\n",
      "x76         -783.3427     56.317    -13.909      0.000    -893.723    -672.963\n",
      "x77          161.3347     44.008      3.666      0.000      75.080     247.589\n",
      "x78          -44.7794     42.690     -1.049      0.294    -128.450      38.891\n",
      "x79          -14.1692    116.312     -0.122      0.903    -242.137     213.799\n",
      "x80           -0.7521     34.422     -0.022      0.983     -68.217      66.713\n",
      "x81         -102.0345     82.252     -1.241      0.215    -263.245      59.176\n",
      "x82        -1118.4973    856.470     -1.306      0.192   -2797.149     560.155\n",
      "x83        -2457.1309   2776.210     -0.885      0.376   -7898.409    2984.148\n",
      "x84        -3794.9136   1835.463     -2.068      0.039   -7392.360    -197.467\n",
      "x85        -1108.5884   1869.515     -0.593      0.553   -4772.775    2555.598\n",
      "x86         -352.0273   1635.257     -0.215      0.830   -3557.077    2853.022\n",
      "x87         -146.9715    146.081     -1.006      0.314    -433.286     139.343\n",
      "x88          313.8478     53.419      5.875      0.000     209.148     418.548\n",
      "x89         -147.3079     34.089     -4.321      0.000    -214.121     -80.495\n",
      "x90          -70.6424     34.302     -2.059      0.039    -137.873      -3.411\n",
      "x91         -778.4151     36.601    -21.267      0.000    -850.152    -706.678\n",
      "x92        -2280.1331     70.758    -32.224      0.000   -2418.816   -2141.450\n",
      "x93        -3399.5593     77.324    -43.965      0.000   -3551.111   -3248.008\n",
      "x94        -2159.1474     54.319    -39.749      0.000   -2265.611   -2052.684\n",
      "x95          -11.3746     32.769     -0.347      0.729     -75.601      52.851\n",
      "x96          -18.1491     42.280     -0.429      0.668    -101.017      64.719\n",
      "x97           17.1775     39.366      0.436      0.663     -59.978      94.333\n",
      "x98          124.9837     64.553      1.936      0.053      -1.539     251.506\n",
      "x99          -30.8614     42.206     -0.731      0.465    -113.584      51.861\n",
      "x100         -56.3151     47.180     -1.194      0.233    -148.787      36.157\n",
      "x101         -23.6439     32.966     -0.717      0.473     -88.257      40.969\n",
      "x102        -114.7244     71.413     -1.606      0.108    -254.692      25.243\n",
      "x103         -55.6195     56.586     -0.983      0.326    -166.526      55.287\n",
      "x104          -3.7591     32.774     -0.115      0.909     -67.995      60.477\n",
      "x105         -38.5082     38.135     -1.010      0.313    -113.251      36.235\n",
      "x106         -97.5675     61.744     -1.580      0.114    -218.583      23.448\n",
      "x107         -62.3681     47.935     -1.301      0.193    -156.320      31.584\n",
      "x108         -40.4755     48.031     -0.843      0.399    -134.615      53.665\n",
      "x109          40.0001     39.654      1.009      0.313     -37.720     117.720\n",
      "x110         -49.0763     39.533     -1.241      0.214    -126.559      28.406\n",
      "x111          35.6474     43.813      0.814      0.416     -50.225     121.520\n",
      "x112         -29.3084     58.465     -0.501      0.616    -143.898      85.281\n",
      "x113        -127.2584     50.324     -2.529      0.011    -225.892     -28.625\n",
      "x114        -145.4322     88.321     -1.647      0.100    -318.539      27.674\n",
      "x115        -105.6249     53.149     -1.987      0.047    -209.795      -1.454\n",
      "x116         -91.7681     43.569     -2.106      0.035    -177.161      -6.375\n",
      "x117          36.7897     40.049      0.919      0.358     -41.706     115.285\n",
      "x118         -10.9339     44.323     -0.247      0.805     -97.806      75.939\n",
      "x119          -0.7929     37.853     -0.021      0.983     -74.984      73.398\n",
      "x120          11.3698     34.265      0.332      0.740     -55.789      78.529\n",
      "x121         -11.4638     33.021     -0.347      0.728     -76.185      53.257\n",
      "x122         -84.5886     57.382     -1.474      0.140    -197.056      27.879\n",
      "x123         -58.9865     70.623     -0.835      0.404    -197.406      79.433\n",
      "x124          35.3357     43.774      0.807      0.420     -50.461     121.132\n",
      "x125        -126.9191     84.103     -1.509      0.131    -291.758      37.920\n",
      "x126         -64.5196     56.768     -1.137      0.256    -175.784      46.745\n",
      "x127         -48.3499     35.991     -1.343      0.179    -118.890      22.191\n",
      "x128        -109.5034     56.237     -1.947      0.052    -219.725       0.718\n",
      "x129         -69.8838     43.966     -1.589      0.112    -156.056      16.289\n",
      "x130         -29.8457     33.393     -0.894      0.371     -95.294      35.603\n",
      "x131        -123.5104     86.708     -1.424      0.154    -293.454      46.433\n",
      "x132           2.5990     42.481      0.061      0.951     -80.662      85.860\n",
      "x133         -42.6805     45.728     -0.933      0.351    -132.306      46.945\n",
      "x134          -8.1654     47.402     -0.172      0.863    -101.071      84.740\n",
      "x135          -8.3984     34.892     -0.241      0.810     -76.786      59.989\n",
      "x136         -52.3027     43.788     -1.194      0.232    -138.125      33.520\n",
      "x137         -18.8361     65.793     -0.286      0.775    -147.789     110.117\n",
      "x138         -28.9179     40.129     -0.721      0.471    -107.569      49.733\n",
      "x139          -6.8160     51.568     -0.132      0.895    -107.888      94.256\n",
      "x140         -34.6772     51.982     -0.667      0.505    -136.561      67.206\n",
      "x141          13.9002     34.223      0.406      0.685     -53.175      80.976\n",
      "x142         -30.7373     51.819     -0.593      0.553    -132.302      70.827\n",
      "x143        -105.5883     46.072     -2.292      0.022    -195.887     -15.289\n",
      "x144         -34.1002     34.404     -0.991      0.322    -101.530      33.330\n",
      "x145         104.1601     34.917      2.983      0.003      35.723     172.597\n",
      "x146        1.102e+04     79.289    139.002      0.000    1.09e+04    1.12e+04\n",
      "x147       -4340.8272     46.048    -94.268      0.000   -4431.079   -4250.576\n",
      "x148         356.7474     33.780     10.561      0.000     290.540     422.955\n",
      "==============================================================================\n",
      "Omnibus:                  3402250.061   Durbin-Watson:                   0.114\n",
      "Prob(Omnibus):                  0.000   Jarque-Bera (JB):   20461403103830.594\n",
      "Skew:                          71.056   Prob(JB):                         0.00\n",
      "Kurtosis:                   22714.230   Cond. No.                     2.25e+15\n",
      "==============================================================================\n",
      "\n",
      "Notes:\n",
      "[1] R² is computed without centering (uncentered) since the model does not contain a constant.\n",
      "[2] Standard Errors assume that the covariance matrix of the errors is correctly specified.\n",
      "[3] The smallest eigenvalue is 1.02e-24. This might indicate that there are\n",
      "strong multicollinearity problems or that the design matrix is singular.\n"
     ]
    }
   ],
   "source": [
    "print('Run MLR on data with all columns')\n",
    "print('\\r')\n",
    "get_stats(x_train_scaled,y_train)"
   ]
  },
  {
   "cell_type": "code",
   "execution_count": 35,
   "id": "b4140f61",
   "metadata": {},
   "outputs": [
    {
     "name": "stdout",
     "output_type": "stream",
     "text": [
      "Run MLR on data with columns in dt_scaled_7\n",
      "\n",
      "                                 OLS Regression Results                                \n",
      "=======================================================================================\n",
      "Dep. Variable:                      y   R-squared (uncentered):                   0.156\n",
      "Model:                            OLS   Adj. R-squared (uncentered):              0.156\n",
      "Method:                 Least Squares   F-statistic:                              1617.\n",
      "Date:                Mon, 20 Mar 2023   Prob (F-statistic):                        0.00\n",
      "Time:                        15:43:39   Log-Likelihood:                     -1.1227e+07\n",
      "No. Observations:              952025   AIC:                                  2.245e+07\n",
      "Df Residuals:                  951916   BIC:                                  2.246e+07\n",
      "Df Model:                         109                                                  \n",
      "Covariance Type:            nonrobust                                                  \n",
      "==============================================================================\n",
      "                 coef    std err          t      P>|t|      [0.025      0.975]\n",
      "------------------------------------------------------------------------------\n",
      "x1          3207.3643     46.315     69.251      0.000    3116.588    3298.141\n",
      "x2            55.8049     34.900      1.599      0.110     -12.598     124.207\n",
      "x3           146.0703     32.850      4.447      0.000      81.686     210.455\n",
      "x4           680.6965     43.645     15.596      0.000     595.153     766.240\n",
      "x5          1137.1595     52.922     21.487      0.000    1033.434    1240.885\n",
      "x6          1009.3117     33.236     30.368      0.000     944.170    1074.453\n",
      "x7          -757.1625     54.218    -13.965      0.000    -863.428    -650.897\n",
      "x8           279.3589     54.000      5.173      0.000     173.521     385.197\n",
      "x9         -2091.7003    103.172    -20.274      0.000   -2293.913   -1889.487\n",
      "x10        -1062.1639     48.078    -22.093      0.000   -1156.395    -967.933\n",
      "x11        -2064.5561     65.754    -31.398      0.000   -2193.432   -1935.680\n",
      "x12         -138.1080     33.877     -4.077      0.000    -204.505     -71.711\n",
      "x13        -2241.7766    104.396    -21.474      0.000   -2446.390   -2037.163\n",
      "x14        -1021.5919     62.348    -16.385      0.000   -1143.792    -899.392\n",
      "x15          -70.9897     33.809     -2.100      0.036    -137.255      -4.725\n",
      "x16        -1183.4980     92.893    -12.741      0.000   -1365.564   -1001.432\n",
      "x17          -44.3374     32.855     -1.349      0.177    -108.732      20.057\n",
      "x18         -990.2274     71.120    -13.923      0.000   -1129.621    -850.834\n",
      "x19         -127.8299     44.173     -2.894      0.004    -214.408     -41.252\n",
      "x20           -3.3789     32.819     -0.103      0.918     -67.703      60.945\n",
      "x21          391.6394     36.624     10.693      0.000     319.857     463.421\n",
      "x22        -2087.8937     86.403    -24.165      0.000   -2257.241   -1918.546\n",
      "x23        -1230.5647     65.169    -18.883      0.000   -1358.293   -1102.836\n",
      "x24         1037.7203     39.429     26.319      0.000     960.442    1114.999\n",
      "x25          446.4890     46.369      9.629      0.000     355.607     537.371\n",
      "x26           72.3474     47.034      1.538      0.124     -19.839     164.533\n",
      "x27          101.4398     36.153      2.806      0.005      30.580     172.299\n",
      "x28          100.3841     33.271      3.017      0.003      35.174     165.594\n",
      "x29         -544.0835     54.350    -10.011      0.000    -650.607    -437.560\n",
      "x30         1797.6133     53.081     33.866      0.000    1693.577    1901.650\n",
      "x31          -65.7925     33.131     -1.986      0.047    -130.728      -0.857\n",
      "x32         -350.3688     40.006     -8.758      0.000    -428.780    -271.958\n",
      "x33        -1677.3037     88.886    -18.870      0.000   -1851.518   -1503.090\n",
      "x34          -15.7117     32.854     -0.478      0.632     -80.105      48.681\n",
      "const        3.59e-13    6.3e-14      5.701      0.000    2.36e-13    4.82e-13\n",
      "x35          -43.0616     33.156     -1.299      0.194    -108.046      21.922\n",
      "x36           64.5775     32.917      1.962      0.050       0.061     129.094\n",
      "x37        -1244.9877     62.421    -19.945      0.000   -1367.331   -1122.644\n",
      "x38         1716.9091     33.011     52.010      0.000    1652.209    1781.609\n",
      "x39          -36.2590     32.850     -1.104      0.270    -100.643      28.125\n",
      "x40          -68.6261     33.099     -2.073      0.038    -133.498      -3.754\n",
      "x41            5.7749     33.182      0.174      0.862     -59.261      70.810\n",
      "x42         -358.3414     59.678     -6.005      0.000    -475.308    -241.375\n",
      "x43          -36.9303     32.884     -1.123      0.261    -101.381      27.520\n",
      "x44         -704.7823     73.911     -9.536      0.000    -849.645    -559.920\n",
      "x45         -662.4421     55.617    -11.911      0.000    -771.450    -553.434\n",
      "x46          414.3501     42.789      9.684      0.000     330.486     498.214\n",
      "x47         -196.3018    140.926     -1.393      0.164    -472.513      79.909\n",
      "x48          417.2817    447.032      0.933      0.351    -458.887    1293.450\n",
      "x49        -1741.0056    296.768     -5.867      0.000   -2322.662   -1159.350\n",
      "x50          632.3267    302.837      2.088      0.037      38.777    1225.877\n",
      "x51          983.3334    264.788      3.714      0.000     464.358    1502.309\n",
      "x52         -815.0344     36.537    -22.307      0.000    -886.645    -743.424\n",
      "x53        -2360.1136     64.456    -36.616      0.000   -2486.446   -2233.781\n",
      "x54        -3870.2550     68.855    -56.209      0.000   -4005.208   -3735.302\n",
      "x55        -2213.3111     48.988    -45.181      0.000   -2309.325   -2117.297\n",
      "x56          -13.0658     32.812     -0.398      0.690     -77.376      51.244\n",
      "x57          -18.0806     42.331     -0.427      0.669    -101.049      64.887\n",
      "x58           24.9270     39.413      0.632      0.527     -52.320     102.174\n",
      "x59          124.8937     64.619      1.933      0.053      -1.758     251.546\n",
      "x60          -45.3196     42.249     -1.073      0.283    -128.126      37.487\n",
      "x61          -76.5268     47.231     -1.620      0.105    -169.097      16.044\n",
      "x62          -19.8737     33.008     -0.602      0.547     -84.569      44.822\n",
      "x63         -107.0491     71.498     -1.497      0.134    -247.183      33.085\n",
      "x64          -61.2095     56.656     -1.080      0.280    -172.253      49.834\n",
      "x65           -3.0884     32.817     -0.094      0.925     -67.408      61.231\n",
      "x66          -48.9628     38.176     -1.283      0.200    -123.786      25.860\n",
      "x67         -125.1479     61.803     -2.025      0.043    -246.279      -4.017\n",
      "x68          -84.2718     47.986     -1.756      0.079    -178.323       9.779\n",
      "x69          -64.0645     48.073     -1.333      0.183    -158.286      30.157\n",
      "x70           34.7659     39.702      0.876      0.381     -43.048     112.580\n",
      "x71          -56.3639     39.579     -1.424      0.154    -133.938      21.210\n",
      "x72           40.0479     43.869      0.913      0.361     -45.933     126.029\n",
      "x73          -48.5017     58.527     -0.829      0.407    -163.213      66.210\n",
      "x74         -147.2484     50.375     -2.923      0.003    -245.981     -48.516\n",
      "x75         -194.9714     88.388     -2.206      0.027    -368.209     -21.734\n",
      "x76         -134.2293     53.195     -2.523      0.012    -238.489     -29.969\n",
      "x77         -118.6580     43.603     -2.721      0.007    -204.118     -33.198\n",
      "x78           33.5185     40.100      0.836      0.403     -45.076     112.113\n",
      "x79          -25.9582     44.373     -0.585      0.559    -112.928      61.011\n",
      "x80           -6.4266     37.900     -0.170      0.865     -80.710      67.857\n",
      "x81            3.5788     34.307      0.104      0.917     -63.662      70.820\n",
      "x82          -10.1997     33.064     -0.308      0.758     -75.004      54.605\n",
      "x83         -111.1189     57.439     -1.935      0.053    -223.697       1.459\n",
      "x84          -98.4186     70.676     -1.393      0.164    -236.941      40.104\n",
      "x85           30.3105     43.826      0.692      0.489     -55.587     116.208\n",
      "x86         -175.3451     84.177     -2.083      0.037    -340.330     -10.361\n",
      "x87          -71.7783     56.838     -1.263      0.207    -183.178      39.622\n",
      "x88          -57.2244     36.033     -1.588      0.112    -127.848      13.399\n",
      "x89         -141.6709     56.286     -2.517      0.012    -251.990     -31.352\n",
      "x90          -68.4598     44.022     -1.555      0.120    -154.741      17.822\n",
      "x91          -33.3320     33.435     -0.997      0.319     -98.864      32.200\n",
      "x92         -152.2199     86.799     -1.754      0.079    -322.342      17.902\n",
      "x93            7.3937     42.533      0.174      0.862     -75.970      90.757\n",
      "x94          -64.8226     45.773     -1.416      0.157    -154.537      24.891\n",
      "x95           -9.3831     47.462     -0.198      0.843    -102.406      83.640\n",
      "x96          -19.4463     34.934     -0.557      0.578     -87.916      49.024\n",
      "x97          -60.6018     43.840     -1.382      0.167    -146.526      25.323\n",
      "x98           -9.5474     65.877     -0.145      0.885    -138.664     119.569\n",
      "x99          -38.2987     40.168     -0.953      0.340    -117.027      40.430\n",
      "x100         -17.3308     51.627     -0.336      0.737    -118.517      83.855\n",
      "x101         -53.7555     52.038     -1.033      0.302    -155.749      48.238\n",
      "x102           8.7148     34.264      0.254      0.799     -58.442      75.871\n",
      "x103         -41.4057     51.880     -0.798      0.425    -143.089      60.278\n",
      "x104        -129.6239     46.107     -2.811      0.005    -219.991     -39.257\n",
      "x105         -42.3374     34.445     -1.229      0.219    -109.848      25.173\n",
      "x106         100.8631     34.870      2.893      0.004      32.520     169.206\n",
      "x107        9341.2118     57.483    162.505      0.000    9228.547    9453.876\n",
      "x108       -4540.8364     45.322   -100.190      0.000   -4629.666   -4452.006\n",
      "x109         358.5365     33.805     10.606      0.000     292.281     424.792\n",
      "==============================================================================\n",
      "Omnibus:                  3326353.069   Durbin-Watson:                   0.119\n",
      "Prob(Omnibus):                  0.000   Jarque-Bera (JB):   16950972896351.416\n",
      "Skew:                          66.344   Prob(JB):                         0.00\n",
      "Kurtosis:                   20674.396   Cond. No.                     6.28e+15\n",
      "==============================================================================\n",
      "\n",
      "Notes:\n",
      "[1] R² is computed without centering (uncentered) since the model does not contain a constant.\n",
      "[2] Standard Errors assume that the covariance matrix of the errors is correctly specified.\n",
      "[3] The smallest eigenvalue is 7.42e-26. This might indicate that there are\n",
      "strong multicollinearity problems or that the design matrix is singular.\n"
     ]
    }
   ],
   "source": [
    "print('Run MLR on data with columns in dt_scaled_7')\n",
    "print('\\r')\n",
    "get_stats(x_train_scaled7,y_train)"
   ]
  },
  {
   "cell_type": "markdown",
   "id": "392bb9bd",
   "metadata": {},
   "source": [
    "# Run Gradient Boosted Regression model"
   ]
  },
  {
   "cell_type": "code",
   "execution_count": 36,
   "id": "586dbb29",
   "metadata": {},
   "outputs": [],
   "source": [
    "from xgboost import XGBRegressor\n",
    "from sklearn.pipeline import make_pipeline\n",
    "from sklearn.model_selection import GridSearchCV\n"
   ]
  },
  {
   "cell_type": "code",
   "execution_count": 37,
   "id": "bf8ed225",
   "metadata": {},
   "outputs": [],
   "source": [
    "params = {\n",
    "    'objective': 'reg:squarederror',\n",
    "    'eval_metric': 'mape',\n",
    "    'learning_rate': 0.3,\n",
    "    'lambda' : 2,\n",
    "    'n_estimators': 300\n",
    "}\n",
    "\n",
    "pipe = make_pipeline(\n",
    "    XGBRegressor(tree_method='gpu_hist', **params)\n",
    ")\n",
    "\n",
    "param_grid = {\n",
    "    'xgbregressor__n_estimators': [200, 300, 400, 500],\n",
    "    'xgbregressor__learning_rate': [0.001, 0.01, 0.1, 0.2]\n",
    "}\n",
    "cv = KFold(n_splits=10, shuffle=True, random_state=random_state)\n",
    "\n",
    "grid = GridSearchCV(pipe, param_grid=param_grid, cv=cv, scoring='neg_mean_absolute_percentage_error')"
   ]
  },
  {
   "cell_type": "code",
   "execution_count": 41,
   "id": "19a77264",
   "metadata": {},
   "outputs": [
    {
     "data": {
      "text/plain": [
       "GridSearchCV(cv=KFold(n_splits=10, random_state=2023, shuffle=True),\n",
       "             estimator=Pipeline(steps=[('xgbregressor',\n",
       "                                        XGBRegressor(base_score=None,\n",
       "                                                     booster=None,\n",
       "                                                     callbacks=None,\n",
       "                                                     colsample_bylevel=None,\n",
       "                                                     colsample_bynode=None,\n",
       "                                                     colsample_bytree=None,\n",
       "                                                     early_stopping_rounds=None,\n",
       "                                                     enable_categorical=False,\n",
       "                                                     eval_metric='mape',\n",
       "                                                     feature_types=None,\n",
       "                                                     gamma=None, gpu_id=None,\n",
       "                                                     grow_...\n",
       "                                                     max_cat_to_onehot=None,\n",
       "                                                     max_delta_step=None,\n",
       "                                                     max_depth=None,\n",
       "                                                     max_leaves=None,\n",
       "                                                     min_child_weight=None,\n",
       "                                                     missing=nan,\n",
       "                                                     monotone_constraints=None,\n",
       "                                                     n_estimators=300,\n",
       "                                                     n_jobs=None,\n",
       "                                                     num_parallel_tree=None,\n",
       "                                                     predictor=None, ...))]),\n",
       "             param_grid={'xgbregressor__learning_rate': [0.001, 0.01, 0.1, 0.2],\n",
       "                         'xgbregressor__n_estimators': [200, 300, 400, 500]},\n",
       "             scoring='neg_mean_absolute_percentage_error')"
      ]
     },
     "execution_count": 41,
     "metadata": {},
     "output_type": "execute_result"
    }
   ],
   "source": [
    "grid.fit(x_kf, y)"
   ]
  },
  {
   "cell_type": "code",
   "execution_count": 42,
   "id": "95f3fce4",
   "metadata": {},
   "outputs": [
    {
     "name": "stdout",
     "output_type": "stream",
     "text": [
      "Best hyperparameters:  {'xgbregressor__learning_rate': 0.2, 'xgbregressor__n_estimators': 500}\n"
     ]
    }
   ],
   "source": [
    "best_estimator = grid.best_estimator_\n",
    "print(\"Best hyperparameters: \", grid.best_params_)"
   ]
  },
  {
   "cell_type": "code",
   "execution_count": 44,
   "id": "5d9b63eb",
   "metadata": {},
   "outputs": [
    {
     "name": "stdout",
     "output_type": "stream",
     "text": [
      "RMSE: 10516.080664\n",
      "R^2: 0.536724\n",
      "MAPE: 0.177819\n"
     ]
    }
   ],
   "source": [
    "y_pred_XGBoost_scaled = best_estimator.predict(x_test_scaled7)\n",
    "\n",
    "print(\"RMSE: %.6f\" % np.sqrt(metrics.mean_squared_error(y_test, y_pred_XGBoost_scaled)))\n",
    "print(\"R^2: %.6f\" % metrics.r2_score(y_test, y_pred_XGBoost_scaled))\n",
    "print(\"MAPE: %.6f\" % mape(y_test, y_pred_XGBoost_scaled))"
   ]
  }
 ],
 "metadata": {
  "jupytext": {
   "cell_metadata_filter": "-all",
   "encoding": "# coding: utf-8",
   "executable": "/usr/bin/env python",
   "main_language": "python",
   "notebook_metadata_filter": "-all"
  },
  "kernelspec": {
   "display_name": "Python 3 (ipykernel)",
   "language": "python",
   "name": "python3"
  },
  "language_info": {
   "codemirror_mode": {
    "name": "ipython",
    "version": 3
   },
   "file_extension": ".py",
   "mimetype": "text/x-python",
   "name": "python",
   "nbconvert_exporter": "python",
   "pygments_lexer": "ipython3",
   "version": "3.9.12"
  }
 },
 "nbformat": 4,
 "nbformat_minor": 5
}
